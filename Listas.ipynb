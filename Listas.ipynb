{
  "nbformat": 4,
  "nbformat_minor": 0,
  "metadata": {
    "colab": {
      "provenance": [],
      "collapsed_sections": [],
      "authorship_tag": "ABX9TyOtbstZk5EYqXdsCWX5PrlT",
      "include_colab_link": true
    },
    "kernelspec": {
      "name": "python3",
      "display_name": "Python 3"
    },
    "language_info": {
      "name": "python"
    }
  },
  "cells": [
    {
      "cell_type": "markdown",
      "metadata": {
        "id": "view-in-github",
        "colab_type": "text"
      },
      "source": [
        "<a href=\"https://colab.research.google.com/github/lidjud/Python-sem-23_1/blob/main/Listas.ipynb\" target=\"_parent\"><img src=\"https://colab.research.google.com/assets/colab-badge.svg\" alt=\"Open In Colab\"/></a>"
      ]
    },
    {
      "cell_type": "markdown",
      "source": [
        "## Listas\n",
        "\n",
        "En python, una lista es una colección de elementos. Para declarar una lista, usarás ```[]``` para encerrar a los elementos que la conformarán. Cada elemento estará separado por una coma. Por ejemplo, para crear una lista con los números del 1 al 5 escribirás:\n",
        "\n",
        "```\n",
        "first_five_numbers = [1, 2, 3, 4, 5]\n",
        "``` \n",
        "\n",
        "Los elemento de una lista pueden ser cualquier tipo de dato primitivo (int, float, string o boolean) u otras listas (una lista anidada). También puedes declarar una lista vacía dejando a la lista sin elementos.\n",
        "\n",
        "```\n",
        "#Una lista de enteros\n",
        "first_five_numbers = [1, 2, 3, 4, 5]\n",
        "\n",
        "#Una lista de strings\n",
        "words = [\"hello\", \"bye\", \"thanks\", \"low\"]\n",
        "\n",
        "#lista anidada, lista de listas\n",
        "l_lists = [[1, 2, 3, 4, 5], [6, 7, 8, 9, 10]]\n",
        "\n",
        "#una lista vacia\n",
        "empty_list = []\n",
        "``` "
      ],
      "metadata": {
        "id": "6wyXkWrHEVaV"
      }
    },
    {
      "cell_type": "markdown",
      "source": [
        "Los elementos en una lista tienen un orden de aparición, lo que permite que puedas acceder a ellos mediante su índice. Los índices de una lista inician en $0$. Para acceder individualmente a los elemento de una lista usarás la notación ```[n]```.\n",
        "\n",
        "```\n",
        "#Una lista de enteros\n",
        "first_five_numbers = [1, 2, 3, 4, 5]\n",
        "\n",
        "#imprimir el primer elemento de la lista\n",
        "print(first_five_numbers[0])\n",
        "```"
      ],
      "metadata": {
        "id": "orXwCGRzEj0o"
      }
    },
    {
      "cell_type": "code",
      "source": [
        "#Prueba a cambiar el valor de n para imprimir otros elementos de la lista\n",
        "n = 0\n",
        "\n",
        "# Una lista de enteros\n",
        "first_five_numbers = [1, 2, 3, 4, 5]\n",
        "\n",
        "# imprimir el n-esimo elemento de la lista\n",
        "print(first_five_numbers[n])"
      ],
      "metadata": {
        "id": "wZvZBifFDaNn"
      },
      "execution_count": null,
      "outputs": []
    },
    {
      "cell_type": "markdown",
      "source": [
        "### Número de elementos en una lista\n",
        "\n",
        "Puedes usar la notación ```len(l)``` para retornar el número de elementos que contiene una lista."
      ],
      "metadata": {
        "id": "9pHNMO-zE5iV"
      }
    },
    {
      "cell_type": "code",
      "source": [
        "first_numbers = [1, 2, 3, 4, 5]\n",
        "\n",
        "#imprimir todos los elementos de la lista\n",
        "print(first_numbers)\n",
        "\n",
        "#Numero de elementos en la lista\n",
        "print(\"Numero de elementos en la lista:\", len(first_numbers))"
      ],
      "metadata": {
        "id": "iY7za5ICEvQV"
      },
      "execution_count": null,
      "outputs": []
    },
    {
      "cell_type": "markdown",
      "source": [
        "### Mutabilidad de listas\n",
        "\n",
        "Las listas en python son mutables, esto quiere decir que puedes modificar los contenidos de éstas. Por ejemplo, puedes sobreescribir el valor del primer elemento de una lista usando:\n"
      ],
      "metadata": {
        "id": "PhxzsdcpFD8A"
      }
    },
    {
      "cell_type": "code",
      "source": [
        "# declarando una lista de strings\n",
        "words = [\"hello\", \"bye\", \"thanks\", \"low\"]\n",
        "print(words)\n",
        "\n",
        "# reemplazando el primer valor de la lista\n",
        "words[0] = \"hi\"\n",
        "print(words)"
      ],
      "metadata": {
        "id": "8llW6nAEE9CX"
      },
      "execution_count": null,
      "outputs": []
    },
    {
      "cell_type": "markdown",
      "source": [
        "### Slicing de listas\n",
        "\n",
        "La operación de slicing de python te permite seleccionar varios elementos de una lista (una rebanada). Para hacer slicing utilizas la siguiente nomenclatura ```list[n:m]```, donde $n$ es el índice de inicio del slice y $m$ es el índice final (no inclusivo). Por ejemplo, si quisiera seleccionar los primeros tres elementos de una lista usarías:\n",
        "\n",
        "```\n",
        "first_five_numbers = [1, 2, 3, 4, 5]\n",
        "print(first_five_numbers[0:3])\n",
        "```\n",
        "\n",
        "Algunos atajos:\n",
        "\n",
        "* Si omites el valor de $n$, el slice iniciará al principio de la lista.\n",
        "\n",
        "```\n",
        "first_five_numbers = [1, 2, 3, 4, 5]\n",
        "print(first_five_numbers[:3])\n",
        "```\n",
        "\n",
        "* Si omites el valor de $m$, el slice finalizará en el último elemento de la lista.\n",
        "\n",
        "```\n",
        "first_five_numbers = [1, 2, 3, 4, 5]\n",
        "print(first_five_numbers[1:])\n",
        "```\n",
        "\n",
        "* Si omites ambos valores (```list[:]```), el slice retorna una copia de toda la lista.\n",
        "\n",
        "```\n",
        "first_five_numbers = [1, 2, 3, 4, 5]\n",
        "print(first_five_numbers[:])\n",
        "```\n"
      ],
      "metadata": {
        "id": "GabHVhCCFVkF"
      }
    },
    {
      "cell_type": "code",
      "source": [
        "#modifica los valores del slice de la lista para seleccionar diferentes elementos\n",
        "first_five_numbers = [1, 2, 3, 4, 5]\n",
        "print(first_five_numbers[0:3])"
      ],
      "metadata": {
        "id": "KTBSpeBSFGoC"
      },
      "execution_count": null,
      "outputs": []
    },
    {
      "cell_type": "markdown",
      "source": [
        "También puedes usar slicing para modificar múltiples elementos de una lista. Recuerda que una lista es mutable, por lo que los elementos anteriores se sobrescriben."
      ],
      "metadata": {
        "id": "qFJoyyDJFxSo"
      }
    },
    {
      "cell_type": "code",
      "source": [
        "first_five_numbers = [1, 2, 3, 4, 5]\n",
        "print(first_five_numbers)\n",
        "\n",
        "#usando slicing para cambiar los elementos de la lista\n",
        "#Esto actualiza los elementos por lo que los valores anteriores se pierden\n",
        "first_five_numbers[0:3] = [0, 1, 2]\n",
        "print(first_five_numbers)"
      ],
      "metadata": {
        "id": "9yfU8ZXuFZJ3"
      },
      "execution_count": null,
      "outputs": []
    },
    {
      "cell_type": "markdown",
      "source": [
        "Por último, puedes usar un tercer elemento $k$ al hacer slicing para definir el tamaño del salto."
      ],
      "metadata": {
        "id": "4AIiDLvcF6kr"
      }
    },
    {
      "cell_type": "code",
      "source": [
        "first_five_numbers = [1, 2, 3, 4, 5]\n",
        "print(\"lista de numeros enteros:\", first_five_numbers)\n",
        "\n",
        "k = 2\n",
        "print(\"numeros impares\", first_five_numbers[::k])"
      ],
      "metadata": {
        "id": "UiqJNDqWF0jO"
      },
      "execution_count": null,
      "outputs": []
    },
    {
      "cell_type": "markdown",
      "source": [
        "### Métodos adicionales de listas\n",
        "\n",
        "Python provee algunas funcionalidades adicionales para el manejo de listas. Estos son importantes para realizar muchas de las tareas que involucran listas.\n",
        "\n",
        "* l.append(x) # Agrega un nuevo elemento _x_ al final de la lista.\n",
        "\n",
        "* l.clear() # Remueve todos los elementos de la lista.\n",
        "\n",
        "* l.copy() # Crea una copia de la lista.\n",
        "\n",
        "* l.extend(l2) # Añade los elementos de l2 a l, similar al operador +.\n",
        "\n",
        "* l.insert(i, x) # Inserta el valor x en la lista en la posición definida por el índice i.\n",
        "\n",
        "* l.pop(\\[i\\]) # Retorna y remueve el elemento en el índice i de la lista. Si se omite i, entonces retorna y remueve el último elemento de la lista.\n",
        "\n",
        "* l.remove(x) # Remueve el elemento x de la lista (solo la primera aparición).\n",
        "\n",
        "* l.reverse() # Invierte el orden de los elementos en la lista. \n",
        "\n",
        "* l.sort() # Retorna la lista con todos sus elementos ordenados ascendentemente.\n",
        "\n",
        "* del list\\[i\\] # Remueve el elemento en el índice i de la lista.\n",
        "\n",
        "* list(s) # Convierte una variable string a una lista que contiene como elementos los caracteres de la variable."
      ],
      "metadata": {
        "id": "ddMA4ptbGmol"
      }
    },
    {
      "cell_type": "markdown",
      "source": [
        "**append**"
      ],
      "metadata": {
        "id": "8ipu1N8NGtaK"
      }
    },
    {
      "cell_type": "code",
      "source": [
        "first_numbers = [1, 2, 3, 4, 5]\n",
        "print(\"Lista original\", first_numbers)\n",
        "print(\"Numero de elementos en la lista original:\", len(first_numbers))\n",
        "\n",
        "#Agregar un nuevo elemento a la lista\n",
        "first_numbers.append(6)\n",
        "\n",
        "#imprimir todos los elementos de la lista\n",
        "print(\"Lista despues de append\", first_numbers)\n",
        "\n",
        "#Numero de elementos en la lista\n",
        "print(\"Numero de elementos en la lista despues de append:\", len(first_numbers))"
      ],
      "metadata": {
        "id": "khjMeHb8F9_N"
      },
      "execution_count": null,
      "outputs": []
    },
    {
      "cell_type": "markdown",
      "source": [
        "**clear**"
      ],
      "metadata": {
        "id": "BaFyuDJYGzy7"
      }
    },
    {
      "cell_type": "code",
      "source": [
        "first_numbers = [1, 2, 3, 4, 5]\n",
        "\n",
        "#imprimir todos los elementos de la lista\n",
        "print(\"Lista original\", first_numbers)\n",
        "\n",
        "#Eliminar todos los elementos de la lista\n",
        "first_numbers.clear()\n",
        "#imprimir todos los elementos de la lista\n",
        "print(\"Lista despues de clear\", first_numbers)"
      ],
      "metadata": {
        "id": "kkflrgjPGvjg"
      },
      "execution_count": null,
      "outputs": []
    },
    {
      "cell_type": "markdown",
      "source": [
        "**copy**"
      ],
      "metadata": {
        "id": "P-bkQeIEG86D"
      }
    },
    {
      "cell_type": "code",
      "source": [
        "first_numbers = [1, 2, 3, 4, 5]\n",
        "\n",
        "#imprimir todos los elementos de la lista\n",
        "print(\"Lista original\", first_numbers)\n",
        "\n",
        "#copia los elementos de la lista a una nueva lista\n",
        "first_numbers_copy = first_numbers.copy()\n",
        "#imprimir todos los elementos de la lista\n",
        "print(\"Una copia de lista\", first_numbers_copy)\n",
        "\n",
        "#modificando la copia\n",
        "first_numbers_copy[0] = 0\n",
        "\n",
        "\n",
        "#imprimir todos los elementos de la lista copia modificada\n",
        "print(\"Copia de lista modificando primer elemento\", first_numbers_copy)\n",
        "#imprimir todos los elementos de la lista\n",
        "print(\"Lista original, no cambia al modificar copia\", first_numbers)\n"
      ],
      "metadata": {
        "id": "YdZxDN0DG3pw"
      },
      "execution_count": null,
      "outputs": []
    },
    {
      "cell_type": "markdown",
      "source": [
        "**extend**"
      ],
      "metadata": {
        "id": "GgARjIA0HDdb"
      }
    },
    {
      "cell_type": "code",
      "source": [
        "fruits = [\"apple\", \"orange\"]\n",
        "more_fruits = [\"peach\", \"pineapple\"]\n",
        "\n",
        "#Extender la lista fruits\n",
        "fruits.extend(more_fruits)\n",
        "print(fruits)"
      ],
      "metadata": {
        "id": "OXplgFbZHABE"
      },
      "execution_count": null,
      "outputs": []
    },
    {
      "cell_type": "markdown",
      "source": [
        "**insert**"
      ],
      "metadata": {
        "id": "ET7sX6aiHIQo"
      }
    },
    {
      "cell_type": "code",
      "source": [
        "first_numbers = [1, 3, 4, 5]\n",
        "\n",
        "#imprimir todos los elementos de la lista\n",
        "print(\"Lista original\", first_numbers)\n",
        "\n",
        "#insertar un nuevo valor en el indice 1\n",
        "first_numbers.insert(1, 2)\n",
        "#imprimir todos los elementos de la lista\n",
        "print(\"Lista al insertar en indice 1\", first_numbers)"
      ],
      "metadata": {
        "id": "dEEpG1LvHFmb"
      },
      "execution_count": null,
      "outputs": []
    },
    {
      "cell_type": "markdown",
      "source": [
        "**pop**"
      ],
      "metadata": {
        "id": "F09m1ttiHM-r"
      }
    },
    {
      "cell_type": "code",
      "source": [
        "numbers = [1, 2, 3, 4, 5]\n",
        "\n",
        "#imprimir todos los elementos de la lista\n",
        "print(\"Lista original \", numbers)\n",
        "\n",
        "#eliminar el segundo valor de la lista\n",
        "i = 1\n",
        "n = numbers.pop(i)\n",
        "\n",
        "#imprimir todos los elementos de la lista\n",
        "print(\"Eliminado el valor \", n ,\" de la lista con pop(\", i,\")\")\n",
        "#imprimir todos los elementos de la lista\n",
        "print(\"Nueva lista despues de pop(\", i,\")\", numbers)\n",
        "\n",
        "\n",
        "#eliminar el ultimo valor de la lista\n",
        "n = numbers.pop()\n",
        "\n",
        "#imprimir todos los elementos de la lista\n",
        "print(\"Eliminado el ultimo valor, \", n ,\", de la lista  con pop()\")\n",
        "#imprimir todos los elementos de la lista\n",
        "print(\"Nueva lista despues de pop() \", numbers)"
      ],
      "metadata": {
        "id": "OA01u5krHKax"
      },
      "execution_count": null,
      "outputs": []
    },
    {
      "cell_type": "markdown",
      "source": [
        "**remove**"
      ],
      "metadata": {
        "id": "HEN7M5RHHS17"
      }
    },
    {
      "cell_type": "code",
      "source": [
        "numbers = [1, 2, 3, 4, 5]\n",
        "\n",
        "#imprimir todos los elementos de la lista\n",
        "print(\"Lista original \", numbers)\n",
        "\n",
        "#eliminar la primera aparicion de n en la lista\n",
        "n = 3\n",
        "\n",
        "numbers.remove(n)\n",
        "print(\"Nueva lista despues de remove(\", n,\")\", numbers)"
      ],
      "metadata": {
        "id": "cP5oTuKeHQNl"
      },
      "execution_count": null,
      "outputs": []
    },
    {
      "cell_type": "markdown",
      "source": [
        "**reverse**"
      ],
      "metadata": {
        "id": "bFIjPu_VHXrF"
      }
    },
    {
      "cell_type": "code",
      "source": [
        "numbers = [1, 2, 3, 4, 5]\n",
        "\n",
        "#imprimir todos los elementos de la lista\n",
        "print(\"Lista original \", numbers)\n",
        "\n",
        "numbers.reverse()\n",
        "#lista invertida\n",
        "print(\"Lista invertida con reverse\", numbers)"
      ],
      "metadata": {
        "id": "KhV2Myh9HUuF"
      },
      "execution_count": null,
      "outputs": []
    },
    {
      "cell_type": "markdown",
      "source": [
        "**sort**"
      ],
      "metadata": {
        "id": "KKpgxlGoHeHM"
      }
    },
    {
      "cell_type": "code",
      "source": [
        "numbers = [5, 1, 4, 3, 2]\n",
        "\n",
        "#imprimir todos los elementos de la lista\n",
        "print(\"Lista original: \", numbers)\n",
        "\n",
        "#Ordenar la lista de numeros\n",
        "numbers.sort()\n",
        "\n",
        "#imprimir todos los elementos de la lista\n",
        "print(\"Lista ordenada: \", numbers)"
      ],
      "metadata": {
        "id": "WnwM1-WHHZvt"
      },
      "execution_count": null,
      "outputs": []
    },
    {
      "cell_type": "markdown",
      "source": [
        "**del**"
      ],
      "metadata": {
        "id": "ZI8Y5wSzHiYh"
      }
    },
    {
      "cell_type": "code",
      "source": [
        "numbers = [1, 2, 3, 4, 5]\n",
        "\n",
        "#imprimir todos los elementos de la lista\n",
        "print(\"Lista original: \", numbers)\n",
        "\n",
        "#eliminar el segundo valor de la lista\n",
        "del numbers[1]\n",
        "\n",
        "#imprimir todos los elementos de la lista\n",
        "print(\"Eliminado el elementos en la posicion 1 de la lista con del \")\n",
        "#imprimir todos los elementos de la lista\n",
        "print(\"Nueva lista: \", numbers)\n",
        "\n",
        "\n",
        "#del tambien funciona con slices\n",
        "del numbers[:-3:-1]\n",
        "\n",
        "#imprimir todos los elementos de la lista\n",
        "print(\"Eliminado un slice de la lista con del: \")\n",
        "#imprimir todos los elementos de la lista\n",
        "print(\"Nueva lista: \", numbers)"
      ],
      "metadata": {
        "id": "jxajsmWrHgAs"
      },
      "execution_count": null,
      "outputs": []
    },
    {
      "cell_type": "markdown",
      "source": [
        "**list(s)**"
      ],
      "metadata": {
        "id": "CSkxCw-7Hnij"
      }
    },
    {
      "cell_type": "code",
      "source": [
        "msj = \"Hola mundo!\"\n",
        "msj_list = list(msj)\n",
        "\n",
        "\n",
        "print(\"De cadena a lista:\", msj, \"->\", msj_list)"
      ],
      "metadata": {
        "id": "OM_sdu6LHksZ"
      },
      "execution_count": null,
      "outputs": []
    },
    {
      "cell_type": "code",
      "source": [
        "#Un ejemplo del operador in utilizando listas\n",
        "numbers = [1, 2, 3, 4, 5] \n",
        "\n",
        "n = 3\n",
        "if n in numbers:\n",
        "    print(n, \"esta contenido en \", numbers)\n",
        "\n",
        "n = 8\n",
        "if n in numbers:\n",
        "    print(n, \"esta contenido en \", numbers)"
      ],
      "metadata": {
        "id": "ZvqC0ogpIWSf"
      },
      "execution_count": null,
      "outputs": []
    },
    {
      "cell_type": "markdown",
      "source": [
        "## For\n",
        "\n",
        "En python, ```for``` es utilizado para recorrer _objetos_ iterables (como una lista) y ejecutar una secuencia de código para cada elemento de ésta.\n",
        "\n",
        "```\n",
        "for l in lista:\n",
        "  #secuencia de codigo\n",
        "```\n"
      ],
      "metadata": {
        "id": "82qM0RaeJok-"
      }
    },
    {
      "cell_type": "code",
      "source": [
        "lista = [1, 2, 3, 4, 5]\n",
        "\n",
        "#recorriendo la lista elemento por elemento\n",
        "print(\"Usando for para recorrer e imprimir los elementos de una lista\")\n",
        "for num in lista:\n",
        "    print(num)"
      ],
      "metadata": {
        "id": "5YpZd2h8JkeP",
        "colab": {
          "base_uri": "https://localhost:8080/"
        },
        "outputId": "65495d00-23db-417e-c247-b4ba62bac2c1"
      },
      "execution_count": 1,
      "outputs": [
        {
          "output_type": "stream",
          "name": "stdout",
          "text": [
            "Usando for para recorrer e imprimir los elementos de una lista\n",
            "1\n",
            "2\n",
            "3\n",
            "4\n",
            "5\n"
          ]
        }
      ]
    },
    {
      "cell_type": "markdown",
      "source": [
        "El tipo de dato range también se convierte útil en ciclos ```for```, ya que podemos recorrer un rango de números durante un ciclo ```for```.\n",
        "\n",
        "```\n",
        "for i in range(10):\n",
        "  #secuencia de código\n",
        "```"
      ],
      "metadata": {
        "id": "d_0dbswAJ7F3"
      }
    },
    {
      "cell_type": "code",
      "source": [
        "#Prueba a cambiar el valor de n\n",
        "n = 40\n",
        "#usando for y range para recorrer un rango de numeros\n",
        "print(\"Usando for y range para imprimir n numeros\")\n",
        "for i in range(n):\n",
        "    print(i)"
      ],
      "metadata": {
        "id": "ac9-UTOhJyPK",
        "colab": {
          "base_uri": "https://localhost:8080/"
        },
        "outputId": "43c9c9c7-ae86-459f-feb5-1d3e68345a65"
      },
      "execution_count": 2,
      "outputs": [
        {
          "output_type": "stream",
          "name": "stdout",
          "text": [
            "Usando for y range para imprimir n numeros\n",
            "0\n",
            "1\n",
            "2\n",
            "3\n",
            "4\n",
            "5\n",
            "6\n",
            "7\n",
            "8\n",
            "9\n",
            "10\n",
            "11\n",
            "12\n",
            "13\n",
            "14\n",
            "15\n",
            "16\n",
            "17\n",
            "18\n",
            "19\n",
            "20\n",
            "21\n",
            "22\n",
            "23\n",
            "24\n",
            "25\n",
            "26\n",
            "27\n",
            "28\n",
            "29\n",
            "30\n",
            "31\n",
            "32\n",
            "33\n",
            "34\n",
            "35\n",
            "36\n",
            "37\n",
            "38\n",
            "39\n"
          ]
        }
      ]
    },
    {
      "cell_type": "markdown",
      "source": [
        "### List comprehensions\n",
        "\n",
        "En python, existe una manera compacta de crear listas conocida como list comprehession. Para esto usas un for dentro de la declaración de una lista para definir los elementos. Por ejemplo:\n",
        "\n",
        "```\n",
        "l = [x_exp for x in coleccion]\n",
        "```"
      ],
      "metadata": {
        "id": "iWYmMq3gKFRh"
      }
    },
    {
      "cell_type": "code",
      "source": [
        "#generando una lista con 10 numeros con un for\n",
        "numbers = []\n",
        "\n",
        "for x in range(10):\n",
        "    numbers.append(x)\n",
        "print(numbers)\n",
        "\n",
        "#usando list comprehession\n",
        "numbers = [x for x in range(10)]\n",
        "print(numbers)"
      ],
      "metadata": {
        "id": "Gl4XakSmJ-oz",
        "colab": {
          "base_uri": "https://localhost:8080/"
        },
        "outputId": "a4bca02f-f1ad-45bf-c7b0-fe05da288614"
      },
      "execution_count": 3,
      "outputs": [
        {
          "output_type": "stream",
          "name": "stdout",
          "text": [
            "[0, 1, 2, 3, 4, 5, 6, 7, 8, 9]\n",
            "[0, 1, 2, 3, 4, 5, 6, 7, 8, 9]\n"
          ]
        }
      ]
    },
    {
      "cell_type": "code",
      "source": [
        "#Algo mas avanzado\n",
        "#una lista con los cuadrados de los numeros de 0 al 9\n",
        "squares = []\n",
        "for x in range(10):\n",
        "    squares.append(x*x)\n",
        "print(squares)\n",
        "  \n",
        "#usando list comprehession\n",
        "squares = [x*x for x in range(10)]\n",
        "print(squares)"
      ],
      "metadata": {
        "id": "BWIqfWLQKK39",
        "colab": {
          "base_uri": "https://localhost:8080/"
        },
        "outputId": "e71e35f0-e181-400b-f9d3-9f8d1a6546af"
      },
      "execution_count": 4,
      "outputs": [
        {
          "output_type": "stream",
          "name": "stdout",
          "text": [
            "[0, 1, 4, 9, 16, 25, 36, 49, 64, 81]\n",
            "[0, 1, 4, 9, 16, 25, 36, 49, 64, 81]\n"
          ]
        }
      ]
    },
    {
      "cell_type": "markdown",
      "source": [
        "**Condicional en list comprehession**\n",
        "\n",
        "También es posible usar listas más avanzadas con list comprehession usando condicionales."
      ],
      "metadata": {
        "id": "Fj7AihKJHByG"
      }
    },
    {
      "cell_type": "code",
      "source": [
        "#una lista con los cuadrados de los numeros pares entre 0 a 20\n",
        "\n",
        "even_squares = [x*x for x in range(20) if x%2 == 0]\n",
        "print(even_squares)"
      ],
      "metadata": {
        "colab": {
          "base_uri": "https://localhost:8080/"
        },
        "id": "qFHaK_LazwJC",
        "outputId": "d17ebb26-ba1f-4644-ccd5-86448c170122"
      },
      "execution_count": 10,
      "outputs": [
        {
          "output_type": "stream",
          "name": "stdout",
          "text": [
            "[0, 4, 16, 36, 64, 100, 144, 196, 256, 324]\n"
          ]
        }
      ]
    },
    {
      "cell_type": "markdown",
      "source": [
        "## For anidados"
      ],
      "metadata": {
        "id": "fKLwV5dbHFL2"
      }
    },
    {
      "cell_type": "markdown",
      "source": [
        "Es posible anidar los ```for```, es decir, meter uno dentro de otro. Podemos tener, por ejemplo, una lista de listas:"
      ],
      "metadata": {
        "id": "gawE3hktHIGu"
      }
    },
    {
      "cell_type": "code",
      "source": [
        "lista = [[56,34,1],\n",
        "         [12,4,5],\n",
        "         [9,4,3]]"
      ],
      "metadata": {
        "id": "LL58oqCCHGR9"
      },
      "execution_count": 11,
      "outputs": []
    },
    {
      "cell_type": "markdown",
      "source": [
        "Si iteramos usando solo un ```for``` estaremos accediendo a la segunda lista pero no a los elementos individuales:\n"
      ],
      "metadata": {
        "id": "XJ0wfmyaHLbV"
      }
    },
    {
      "cell_type": "code",
      "source": [
        "for i in lista:\n",
        "  print(i)"
      ],
      "metadata": {
        "colab": {
          "base_uri": "https://localhost:8080/"
        },
        "id": "QkwYcfjsHKJF",
        "outputId": "074a568f-5cf6-45b7-e0c9-1b89721d4a9c"
      },
      "execution_count": 12,
      "outputs": [
        {
          "output_type": "stream",
          "name": "stdout",
          "text": [
            "[56, 34, 1]\n",
            "[12, 4, 5]\n",
            "[9, 4, 3]\n"
          ]
        }
      ]
    },
    {
      "cell_type": "markdown",
      "source": [
        "Si queremos acceder a cada elemento inidividualmente, podemos anidar con un doble ```for```. Uno de ellos, se encargará de iterar las columnas y el otro las filas."
      ],
      "metadata": {
        "id": "phBJllsAHOVG"
      }
    },
    {
      "cell_type": "code",
      "source": [
        "for i in lista:\n",
        "  for j in i:\n",
        "    print(j)"
      ],
      "metadata": {
        "colab": {
          "base_uri": "https://localhost:8080/"
        },
        "id": "JgAkZx6JHOk3",
        "outputId": "2123b763-e3a5-4478-b0e2-df6743ed461c"
      },
      "execution_count": 13,
      "outputs": [
        {
          "output_type": "stream",
          "name": "stdout",
          "text": [
            "56\n",
            "34\n",
            "1\n",
            "12\n",
            "4\n",
            "5\n",
            "9\n",
            "4\n",
            "3\n"
          ]
        }
      ]
    },
    {
      "cell_type": "markdown",
      "source": [
        "## Bucles while"
      ],
      "metadata": {
        "id": "-BW6bz2aHRFP"
      }
    },
    {
      "cell_type": "markdown",
      "source": [
        "El uso ```while``` nos permite ejecutar una sección de código repetidas veces. El código se ejecutará **mientras** se cumpla una condición determinada."
      ],
      "metadata": {
        "id": "-1NYPtvuHSy_"
      }
    },
    {
      "cell_type": "code",
      "source": [
        "x = 5\n",
        "while x > 0:\n",
        "  x -= 1\n",
        "  print(x)"
      ],
      "metadata": {
        "colab": {
          "base_uri": "https://localhost:8080/"
        },
        "id": "LoXLGccZHRXX",
        "outputId": "0114ae66-aa52-4a17-bdc0-4a45a2b8eb62"
      },
      "execution_count": 14,
      "outputs": [
        {
          "output_type": "stream",
          "name": "stdout",
          "text": [
            "4\n",
            "3\n",
            "2\n",
            "1\n",
            "0\n"
          ]
        }
      ]
    },
    {
      "cell_type": "code",
      "source": [
        "x = [\"Uno\", \"Dos\", \"Tres\"]\n",
        "while x:\n",
        "  x.pop()\n",
        "  print(x)"
      ],
      "metadata": {
        "colab": {
          "base_uri": "https://localhost:8080/"
        },
        "id": "Si-DdVrwHU2P",
        "outputId": "fca8c04a-726a-45ab-eabd-c6c925b8ae38"
      },
      "execution_count": 15,
      "outputs": [
        {
          "output_type": "stream",
          "name": "stdout",
          "text": [
            "['Uno', 'Dos']\n",
            "['Uno']\n",
            "[]\n"
          ]
        }
      ]
    },
    {
      "cell_type": "code",
      "source": [
        "while True:\n",
        "  pass"
      ],
      "metadata": {
        "colab": {
          "base_uri": "https://localhost:8080/",
          "height": 183
        },
        "id": "2BEVgmRMHZAO",
        "outputId": "c2c4ec92-a38e-4db8-ddf5-eafb3062fe01"
      },
      "execution_count": 16,
      "outputs": [
        {
          "output_type": "error",
          "ename": "KeyboardInterrupt",
          "evalue": "ignored",
          "traceback": [
            "\u001b[0;31m---------------------------------------------------------------------------\u001b[0m",
            "\u001b[0;31mKeyboardInterrupt\u001b[0m                         Traceback (most recent call last)",
            "\u001b[0;32m<ipython-input-16-648a2bab0435>\u001b[0m in \u001b[0;36m<module>\u001b[0;34m\u001b[0m\n\u001b[1;32m      1\u001b[0m \u001b[0;32mwhile\u001b[0m \u001b[0;32mTrue\u001b[0m\u001b[0;34m:\u001b[0m\u001b[0;34m\u001b[0m\u001b[0;34m\u001b[0m\u001b[0m\n\u001b[0;32m----> 2\u001b[0;31m   \u001b[0;32mpass\u001b[0m\u001b[0;34m\u001b[0m\u001b[0;34m\u001b[0m\u001b[0m\n\u001b[0m",
            "\u001b[0;31mKeyboardInterrupt\u001b[0m: "
          ]
        }
      ]
    },
    {
      "cell_type": "code",
      "source": [
        "N = 10\n",
        "Sum = 0\n",
        "  \n",
        "while True:\n",
        "    Sum += N\n",
        "    N -= 1\n",
        "      \n",
        "    if N == 0:\n",
        "        break\n",
        "          \n",
        "print(f\"La suma de los primeros diez número es: {Sum}\")"
      ],
      "metadata": {
        "colab": {
          "base_uri": "https://localhost:8080/"
        },
        "id": "uuXGOLJUHbkm",
        "outputId": "648253d5-0d8e-4127-d308-ea29a3d17f1b"
      },
      "execution_count": 17,
      "outputs": [
        {
          "output_type": "stream",
          "name": "stdout",
          "text": [
            "La suma de los primeros diez número es: 55\n"
          ]
        }
      ]
    },
    {
      "cell_type": "code",
      "source": [
        "number = 0\n",
        "\n",
        "for number in range(10):\n",
        "    if number == 5:\n",
        "        break    \n",
        "\n",
        "    print('Number is ' + str(number))\n",
        "\n",
        "print('Out of loop')"
      ],
      "metadata": {
        "colab": {
          "base_uri": "https://localhost:8080/"
        },
        "id": "NmvwdTemHd7A",
        "outputId": "e2a3c512-0fb2-4d89-89a5-6d4c01ffe943"
      },
      "execution_count": 18,
      "outputs": [
        {
          "output_type": "stream",
          "name": "stdout",
          "text": [
            "Number is 0\n",
            "Number is 1\n",
            "Number is 2\n",
            "Number is 3\n",
            "Number is 4\n",
            "Out of loop\n"
          ]
        }
      ]
    },
    {
      "cell_type": "code",
      "source": [
        "number = 0\n",
        "\n",
        "for number in range(10):\n",
        "    if number == 5:\n",
        "        continue    # continue here\n",
        "\n",
        "    print('Number is ' + str(number))\n",
        "\n",
        "print('Out of loop')"
      ],
      "metadata": {
        "colab": {
          "base_uri": "https://localhost:8080/"
        },
        "id": "43bGFw4AHfcI",
        "outputId": "8c32a121-322b-4d11-c700-689814b75c33"
      },
      "execution_count": 19,
      "outputs": [
        {
          "output_type": "stream",
          "name": "stdout",
          "text": [
            "Number is 0\n",
            "Number is 1\n",
            "Number is 2\n",
            "Number is 3\n",
            "Number is 4\n",
            "Number is 6\n",
            "Number is 7\n",
            "Number is 8\n",
            "Number is 9\n",
            "Out of loop\n"
          ]
        }
      ]
    },
    {
      "cell_type": "code",
      "source": [
        "number = 0\n",
        "\n",
        "for number in range(10):\n",
        "    if number == 5:\n",
        "        pass    # pass here\n",
        "\n",
        "    print('Number is ' + str(number))\n",
        "\n",
        "print('Out of loop')"
      ],
      "metadata": {
        "colab": {
          "base_uri": "https://localhost:8080/"
        },
        "id": "P43Z4HxoHhMn",
        "outputId": "965dffe4-0c0b-41a9-c67a-19ca342e4728"
      },
      "execution_count": 20,
      "outputs": [
        {
          "output_type": "stream",
          "name": "stdout",
          "text": [
            "Number is 0\n",
            "Number is 1\n",
            "Number is 2\n",
            "Number is 3\n",
            "Number is 4\n",
            "Number is 5\n",
            "Number is 6\n",
            "Number is 7\n",
            "Number is 8\n",
            "Number is 9\n",
            "Out of loop\n"
          ]
        }
      ]
    },
    {
      "cell_type": "markdown",
      "source": [
        "## Bucles anidados"
      ],
      "metadata": {
        "id": "qhdAxMbYHi0f"
      }
    },
    {
      "cell_type": "code",
      "source": [
        "i = 0\n",
        "j = 0\n",
        "while i<3:\n",
        "  while j<3:\n",
        "    print(i,\" \",j)\n",
        "    j+=1\n",
        "  i+=1\n",
        "  j=0"
      ],
      "metadata": {
        "colab": {
          "base_uri": "https://localhost:8080/"
        },
        "id": "Umm9VdN-HyN9",
        "outputId": "b59634b5-5f88-4d06-8d63-a5f12e85e519"
      },
      "execution_count": 21,
      "outputs": [
        {
          "output_type": "stream",
          "name": "stdout",
          "text": [
            "0   0\n",
            "0   1\n",
            "0   2\n",
            "1   0\n",
            "1   1\n",
            "1   2\n",
            "2   0\n",
            "2   1\n",
            "2   2\n"
          ]
        }
      ]
    },
    {
      "cell_type": "markdown",
      "source": [
        "## Break con bucle for"
      ],
      "metadata": {
        "id": "5j_mKYfhH1Av"
      }
    },
    {
      "cell_type": "code",
      "source": [
        "cadena = \"Python\"\n",
        "for letra in cadena:\n",
        "  if letra == 'h':\n",
        "    print(\"Se encontró la h\")\n",
        "    break\n",
        "  print(letra)"
      ],
      "metadata": {
        "colab": {
          "base_uri": "https://localhost:8080/"
        },
        "id": "Vr7QxtVMH1ZI",
        "outputId": "2c483cf2-9c8f-454f-81e4-a360bba70515"
      },
      "execution_count": 22,
      "outputs": [
        {
          "output_type": "stream",
          "name": "stdout",
          "text": [
            "P\n",
            "y\n",
            "t\n",
            "Se encontró la h\n"
          ]
        }
      ]
    },
    {
      "cell_type": "code",
      "source": [
        "# Fetch the dataset using the raw GitHub URL.\n",
        "!curl --remote-name \\\n",
        "     -H 'Accept: application/vnd.github.v3.raw' \\\n",
        "     --location https://raw.githubusercontent.com/lidjud/Python-sem-23_1/main/verso.txt"
      ],
      "metadata": {
        "colab": {
          "base_uri": "https://localhost:8080/"
        },
        "id": "1WMdSfuITJ3h",
        "outputId": "acf4310c-551e-40b3-f910-439e2ab469de"
      },
      "execution_count": 28,
      "outputs": [
        {
          "output_type": "stream",
          "name": "stdout",
          "text": [
            "  % Total    % Received % Xferd  Average Speed   Time    Time     Time  Current\n",
            "                                 Dload  Upload   Total   Spent    Left  Speed\n",
            "\r  0     0    0     0    0     0      0      0 --:--:-- --:--:-- --:--:--     0\r100  1564  100  1564    0     0  17000      0 --:--:-- --:--:-- --:--:-- 17186\n"
          ]
        }
      ]
    },
    {
      "cell_type": "code",
      "source": [
        "from collections import Counter\n",
        "\n",
        "words = []\n",
        "with open(\"verso.txt\", \"r\", encoding='latin-1') as f:\n",
        "    for line in f:\n",
        "        words.extend(line.split())\n",
        "    print(words)\n",
        "\n",
        "counts = Counter(words)\n",
        "top5 = counts.most_common(5)\n",
        "print(top5)"
      ],
      "metadata": {
        "colab": {
          "base_uri": "https://localhost:8080/"
        },
        "id": "2aDeQaaJQFCo",
        "outputId": "f6e430dd-6978-4e37-8e47-e16c38d78316"
      },
      "execution_count": 36,
      "outputs": [
        {
          "output_type": "stream",
          "name": "stdout",
          "text": [
            "['Puedo', 'escribir', 'los', 'versos', 'más', 'tristes', 'esta', 'noche.', 'Escribir,', 'por', 'ejemplo:', '\"La', 'noche', 'está', 'estrellada,', 'y', 'tiritan,', 'azules,', 'los', 'astros,', 'a', 'lo', 'lejos\".', 'El', 'viento', 'de', 'la', 'noche', 'gira', 'en', 'el', 'cielo', 'y', 'canta.', 'Puedo', 'escribir', 'los', 'versos', 'más', 'tristes', 'esta', 'noche.', 'Yo', 'la', 'quise,', 'y', 'a', 'veces', 'ella', 'también', 'me', 'quiso.', 'En', 'las', 'noches', 'como', 'ésta', 'la', 'tuve', 'entre', 'mis', 'brazos.', 'La', 'besé', 'tantas', 'veces', 'bajo', 'el', 'cielo', 'infinito.', 'Ella', 'me', 'quiso,', 'a', 'veces', 'yo', 'también', 'la', 'quería.', 'Cómo', 'no', 'haber', 'amado', 'sus', 'grandes', 'ojos', 'fijos.', 'Puedo', 'escribir', 'los', 'versos', 'más', 'tristes', 'esta', 'noche.', 'Pensar', 'que', 'no', 'la', 'tengo.', 'Sentir', 'que', 'la', 'he', 'perdido.', 'Oír', 'la', 'noche', 'inmensa,', 'más', 'inmensa', 'sin', 'ella.', 'Y', 'el', 'verso', 'cae', 'al', 'alma', 'como', 'al', 'pasto', 'el', 'rocío.', 'Qué', 'importa', 'que', 'mi', 'amor', 'no', 'pudiera', 'guardarla.', 'La', 'noche', 'está', 'estrellada', 'y', 'ella', 'no', 'está', 'conmigo.', 'Eso', 'es', 'todo.', 'A', 'lo', 'lejos', 'alguien', 'canta.', 'A', 'lo', 'lejos.', 'Mi', 'alma', 'no', 'se', 'contenta', 'con', 'haberla', 'perdido.', 'Como', 'para', 'acercarla', 'mi', 'mirada', 'la', 'busca.', 'Mi', 'corazón', 'la', 'busca,', 'y', 'ella', 'no', 'está', 'conmigo.', 'La', 'misma', 'noche', 'que', 'hace', 'blanquear', 'los', 'mismos', 'árboles.', 'Nosotros,', 'los', 'de', 'entonces,', 'ya', 'no', 'somos', 'los', 'mismos.', 'Ya', 'no', 'la', 'quiero,', 'es', 'cierto,', 'pero', 'cuánto', 'la', 'quise.', 'Mi', 'voz', 'buscaba', 'el', 'viento', 'para', 'tocar', 'su', 'oído.', 'De', 'otro.', 'Será', 'de', 'otro.', 'Como', 'antes', 'de', 'mis', 'besos.', 'Su', 'voz,', 'su', 'cuerpo', 'claro.', 'Sus', 'ojos', 'infinitos.', 'Ya', 'no', 'la', 'quiero,', 'es', 'cierto,', 'pero', 'tal', 'vez', 'la', 'quiero.', 'Es', 'tan', 'corto', 'el', 'amor,', 'y', 'es', 'tan', 'largo', 'el', 'olvido.', 'Porque', 'en', 'noches', 'como', 'ésta', 'la', 'tuve', 'entre', 'mis', 'brazos,', 'mi', 'alma', 'no', 'se', 'contenta', 'con', 'haberla', 'perdido.', 'Aunque', 'éste', 'sea', 'el', 'último', 'dolor', 'que', 'ella', 'me', 'causa,', 'y', 'éstos', 'sean', 'los', 'últimos', 'versos', 'que', 'yo', 'le', 'escribo.']\n",
            "[('la', 14), ('no', 10), ('los', 8), ('el', 8), ('y', 7)]\n"
          ]
        }
      ]
    },
    {
      "cell_type": "markdown",
      "source": [
        "# Ejercicio de programación\n",
        "\n",
        "1. Crea un programa que lea el texto \"poema.txt\" de github. (Utiliza condiciones, ciclos for y while).\n",
        "2. Despliega en pantalla un menú para el usuario con las siguientes funciones:\n",
        "\n",
        "   a. Top 5 de palabras más comununes. (Crea una lista para eliminar las        palabras más comunes: 'la', 'no', 'los', 'el', 'y', 'que', 'de', 'es').\n",
        "\n",
        "   b. Número de letras mayúsculas.\n",
        "\n",
        "   c. Número de letras minúsculas.\n",
        "\n",
        "   d. Salir del programa.\n",
        "  "
      ],
      "metadata": {
        "id": "66TFf6Q4nmQr"
      }
    },
    {
      "cell_type": "code",
      "source": [],
      "metadata": {
        "id": "JtVHows1Q6D3"
      },
      "execution_count": null,
      "outputs": []
    }
  ]
}