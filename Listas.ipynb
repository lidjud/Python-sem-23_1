{
  "nbformat": 4,
  "nbformat_minor": 0,
  "metadata": {
    "colab": {
      "provenance": [],
      "collapsed_sections": [],
      "authorship_tag": "ABX9TyMTRST0MDbwmt7uLCN1KSyC",
      "include_colab_link": true
    },
    "kernelspec": {
      "name": "python3",
      "display_name": "Python 3"
    },
    "language_info": {
      "name": "python"
    }
  },
  "cells": [
    {
      "cell_type": "markdown",
      "metadata": {
        "id": "view-in-github",
        "colab_type": "text"
      },
      "source": [
        "<a href=\"https://colab.research.google.com/github/lidjud/Python-sem-23_1/blob/main/Listas.ipynb\" target=\"_parent\"><img src=\"https://colab.research.google.com/assets/colab-badge.svg\" alt=\"Open In Colab\"/></a>"
      ]
    },
    {
      "cell_type": "markdown",
      "source": [
        "## Listas\n",
        "\n",
        "En python, una lista es una colección de elementos. Para declarar una lista, usarás ```[]``` para encerrar a los elementos que la conformarán. Cada elemento estará separado por una coma. Por ejemplo, para crear una lista con los números del 1 al 5 escribirás:\n",
        "\n",
        "```\n",
        "first_five_numbers = [1, 2, 3, 4, 5]\n",
        "``` \n",
        "\n",
        "Los elemento de una lista pueden ser cualquier tipo de dato primitivo (int, float, string o boolean) u otras listas (una lista anidada). También puedes declarar una lista vacía dejando a la lista sin elementos.\n",
        "\n",
        "```\n",
        "#Una lista de enteros\n",
        "first_five_numbers = [1, 2, 3, 4, 5]\n",
        "\n",
        "#Una lista de strings\n",
        "words = [\"hello\", \"bye\", \"thanks\", \"low\"]\n",
        "\n",
        "#lista anidada, lista de listas\n",
        "l_lists = [[1, 2, 3, 4, 5], [6, 7, 8, 9, 10]]\n",
        "\n",
        "#una lista vacia\n",
        "empty_list = []\n",
        "``` "
      ],
      "metadata": {
        "id": "6wyXkWrHEVaV"
      }
    },
    {
      "cell_type": "markdown",
      "source": [
        "Los elementos en una lista tienen un orden de aparición, lo que permite que puedas acceder a ellos mediante su índice. Los índices de una lista inician en $0$. Para acceder individualmente a los elemento de una lista usarás la notación ```[n]```.\n",
        "\n",
        "```\n",
        "#Una lista de enteros\n",
        "first_five_numbers = [1, 2, 3, 4, 5]\n",
        "\n",
        "#imprimir el primer elemento de la lista\n",
        "print(first_five_numbers[0])\n",
        "```"
      ],
      "metadata": {
        "id": "orXwCGRzEj0o"
      }
    },
    {
      "cell_type": "code",
      "source": [
        "#Prueba a cambiar el valor de n para imprimir otros elementos de la lista\n",
        "n = 0\n",
        "\n",
        "# Una lista de enteros\n",
        "first_five_numbers = [1, 2, 3, 4, 5]\n",
        "\n",
        "# imprimir el n-esimo elemento de la lista\n",
        "print(first_five_numbers[n])"
      ],
      "metadata": {
        "id": "wZvZBifFDaNn"
      },
      "execution_count": null,
      "outputs": []
    },
    {
      "cell_type": "markdown",
      "source": [
        "### Número de elementos en una lista\n",
        "\n",
        "Puedes usar la notación ```len(l)``` para retornar el número de elementos que contiene una lista."
      ],
      "metadata": {
        "id": "9pHNMO-zE5iV"
      }
    },
    {
      "cell_type": "code",
      "source": [
        "first_numbers = [1, 2, 3, 4, 5]\n",
        "\n",
        "#imprimir todos los elementos de la lista\n",
        "print(first_numbers)\n",
        "\n",
        "#Numero de elementos en la lista\n",
        "print(\"Numero de elementos en la lista:\", len(first_numbers))"
      ],
      "metadata": {
        "id": "iY7za5ICEvQV"
      },
      "execution_count": null,
      "outputs": []
    },
    {
      "cell_type": "markdown",
      "source": [
        "### Mutabilidad de listas\n",
        "\n",
        "Las listas en python son mutables, esto quiere decir que puedes modificar los contenidos de éstas. Por ejemplo, puedes sobreescribir el valor del primer elemento de una lista usando:\n"
      ],
      "metadata": {
        "id": "PhxzsdcpFD8A"
      }
    },
    {
      "cell_type": "code",
      "source": [
        "# declarando una lista de strings\n",
        "words = [\"hello\", \"bye\", \"thanks\", \"low\"]\n",
        "print(words)\n",
        "\n",
        "# reemplazando el primer valor de la lista\n",
        "words[0] = \"hi\"\n",
        "print(words)"
      ],
      "metadata": {
        "id": "8llW6nAEE9CX"
      },
      "execution_count": null,
      "outputs": []
    },
    {
      "cell_type": "markdown",
      "source": [
        "### Slicing de listas\n",
        "\n",
        "La operación de slicing de python te permite seleccionar varios elementos de una lista (una rebanada). Para hacer slicing utilizas la siguiente nomenclatura ```list[n:m]```, donde $n$ es el índice de inicio del slice y $m$ es el índice final (no inclusivo). Por ejemplo, si quisiera seleccionar los primeros tres elementos de una lista usarías:\n",
        "\n",
        "```\n",
        "first_five_numbers = [1, 2, 3, 4, 5]\n",
        "print(first_five_numbers[0:3])\n",
        "```\n",
        "\n",
        "Algunos atajos:\n",
        "\n",
        "* Si omites el valor de $n$, el slice iniciará al principio de la lista.\n",
        "\n",
        "```\n",
        "first_five_numbers = [1, 2, 3, 4, 5]\n",
        "print(first_five_numbers[:3])\n",
        "```\n",
        "\n",
        "* Si omites el valor de $m$, el slice finalizará en el último elemento de la lista.\n",
        "\n",
        "```\n",
        "first_five_numbers = [1, 2, 3, 4, 5]\n",
        "print(first_five_numbers[1:])\n",
        "```\n",
        "\n",
        "* Si omites ambos valores (```list[:]```), el slice retorna una copia de toda la lista.\n",
        "\n",
        "```\n",
        "first_five_numbers = [1, 2, 3, 4, 5]\n",
        "print(first_five_numbers[:])\n",
        "```\n"
      ],
      "metadata": {
        "id": "GabHVhCCFVkF"
      }
    },
    {
      "cell_type": "code",
      "source": [
        "#modifica los valores del slice de la lista para seleccionar diferentes elementos\n",
        "first_five_numbers = [1, 2, 3, 4, 5]\n",
        "print(first_five_numbers[0:3])"
      ],
      "metadata": {
        "id": "KTBSpeBSFGoC"
      },
      "execution_count": null,
      "outputs": []
    },
    {
      "cell_type": "markdown",
      "source": [
        "También puedes usar slicing para modificar múltiples elementos de una lista. Recuerda que una lista es mutable, por lo que los elementos anteriores se sobrescriben."
      ],
      "metadata": {
        "id": "qFJoyyDJFxSo"
      }
    },
    {
      "cell_type": "code",
      "source": [
        "first_five_numbers = [1, 2, 3, 4, 5]\n",
        "print(first_five_numbers)\n",
        "\n",
        "#usando slicing para cambiar los elementos de la lista\n",
        "#Esto actualiza los elementos por lo que los valores anteriores se pierden\n",
        "first_five_numbers[0:3] = [0, 1, 2]\n",
        "print(first_five_numbers)"
      ],
      "metadata": {
        "id": "9yfU8ZXuFZJ3"
      },
      "execution_count": null,
      "outputs": []
    },
    {
      "cell_type": "markdown",
      "source": [
        "Por último, puedes usar un tercer elemento $k$ al hacer slicing para definir el tamaño del salto."
      ],
      "metadata": {
        "id": "4AIiDLvcF6kr"
      }
    },
    {
      "cell_type": "code",
      "source": [
        "first_five_numbers = [1, 2, 3, 4, 5]\n",
        "print(\"lista de numeros enteros:\", first_five_numbers)\n",
        "\n",
        "k = 2\n",
        "print(\"numeros impares\", first_five_numbers[::k])"
      ],
      "metadata": {
        "id": "UiqJNDqWF0jO"
      },
      "execution_count": null,
      "outputs": []
    },
    {
      "cell_type": "markdown",
      "source": [
        "### Métodos adicionales de listas\n",
        "\n",
        "Python provee algunas funcionalidades adicionales para el manejo de listas. Estos son importantes para realizar muchas de las tareas que involucran listas.\n",
        "\n",
        "* l.append(x) # Agrega un nuevo elemento _x_ al final de la lista.\n",
        "\n",
        "* l.clear() # Remueve todos los elementos de la lista.\n",
        "\n",
        "* l.copy() # Crea una copia de la lista.\n",
        "\n",
        "* l.extend(l2) # Añade los elementos de l2 a l, similar al operador +.\n",
        "\n",
        "* l.insert(i, x) # Inserta el valor x en la lista en la posición definida por el índice i.\n",
        "\n",
        "* l.pop(\\[i\\]) # Retorna y remueve el elemento en el índice i de la lista. Si se omite i, entonces retorna y remueve el último elemento de la lista.\n",
        "\n",
        "* l.remove(x) # Remueve el elemento x de la lista (solo la primera aparición).\n",
        "\n",
        "* l.reverse() # Invierte el orden de los elementos en la lista. \n",
        "\n",
        "* l.sort() # Retorna la lista con todos sus elementos ordenados ascendentemente.\n",
        "\n",
        "* del list\\[i\\] # Remueve el elemento en el índice i de la lista.\n",
        "\n",
        "* list(s) # Convierte una variable string a una lista que contiene como elementos los caracteres de la variable."
      ],
      "metadata": {
        "id": "ddMA4ptbGmol"
      }
    },
    {
      "cell_type": "markdown",
      "source": [
        "**append**"
      ],
      "metadata": {
        "id": "8ipu1N8NGtaK"
      }
    },
    {
      "cell_type": "code",
      "source": [
        "first_numbers = [1, 2, 3, 4, 5]\n",
        "print(\"Lista original\", first_numbers)\n",
        "print(\"Numero de elementos en la lista original:\", len(first_numbers))\n",
        "\n",
        "#Agregar un nuevo elemento a la lista\n",
        "first_numbers.append(6)\n",
        "\n",
        "#imprimir todos los elementos de la lista\n",
        "print(\"Lista despues de append\", first_numbers)\n",
        "\n",
        "#Numero de elementos en la lista\n",
        "print(\"Numero de elementos en la lista despues de append:\", len(first_numbers))"
      ],
      "metadata": {
        "id": "khjMeHb8F9_N"
      },
      "execution_count": null,
      "outputs": []
    },
    {
      "cell_type": "markdown",
      "source": [
        "**clear**"
      ],
      "metadata": {
        "id": "BaFyuDJYGzy7"
      }
    },
    {
      "cell_type": "code",
      "source": [
        "first_numbers = [1, 2, 3, 4, 5]\n",
        "\n",
        "#imprimir todos los elementos de la lista\n",
        "print(\"Lista original\", first_numbers)\n",
        "\n",
        "#Eliminar todos los elementos de la lista\n",
        "first_numbers.clear()\n",
        "#imprimir todos los elementos de la lista\n",
        "print(\"Lista despues de clear\", first_numbers)"
      ],
      "metadata": {
        "id": "kkflrgjPGvjg"
      },
      "execution_count": null,
      "outputs": []
    },
    {
      "cell_type": "markdown",
      "source": [
        "**copy**"
      ],
      "metadata": {
        "id": "P-bkQeIEG86D"
      }
    },
    {
      "cell_type": "code",
      "source": [
        "first_numbers = [1, 2, 3, 4, 5]\n",
        "\n",
        "#imprimir todos los elementos de la lista\n",
        "print(\"Lista original\", first_numbers)\n",
        "\n",
        "#copia los elementos de la lista a una nueva lista\n",
        "first_numbers_copy = first_numbers.copy()\n",
        "#imprimir todos los elementos de la lista\n",
        "print(\"Una copia de lista\", first_numbers_copy)\n",
        "\n",
        "#modificando la copia\n",
        "first_numbers_copy[0] = 0\n",
        "\n",
        "\n",
        "#imprimir todos los elementos de la lista copia modificada\n",
        "print(\"Copia de lista modificando primer elemento\", first_numbers_copy)\n",
        "#imprimir todos los elementos de la lista\n",
        "print(\"Lista original, no cambia al modificar copia\", first_numbers)\n"
      ],
      "metadata": {
        "id": "YdZxDN0DG3pw"
      },
      "execution_count": null,
      "outputs": []
    },
    {
      "cell_type": "markdown",
      "source": [
        "**extend**"
      ],
      "metadata": {
        "id": "GgARjIA0HDdb"
      }
    },
    {
      "cell_type": "code",
      "source": [
        "fruits = [\"apple\", \"orange\"]\n",
        "more_fruits = [\"peach\", \"pineapple\"]\n",
        "\n",
        "#Extender la lista fruits\n",
        "fruits.extend(more_fruits)\n",
        "print(fruits)"
      ],
      "metadata": {
        "id": "OXplgFbZHABE"
      },
      "execution_count": null,
      "outputs": []
    },
    {
      "cell_type": "markdown",
      "source": [
        "**insert**"
      ],
      "metadata": {
        "id": "ET7sX6aiHIQo"
      }
    },
    {
      "cell_type": "code",
      "source": [
        "first_numbers = [1, 3, 4, 5]\n",
        "\n",
        "#imprimir todos los elementos de la lista\n",
        "print(\"Lista original\", first_numbers)\n",
        "\n",
        "#insertar un nuevo valor en el indice 1\n",
        "first_numbers.insert(1, 2)\n",
        "#imprimir todos los elementos de la lista\n",
        "print(\"Lista al insertar en indice 1\", first_numbers)"
      ],
      "metadata": {
        "id": "dEEpG1LvHFmb"
      },
      "execution_count": null,
      "outputs": []
    },
    {
      "cell_type": "markdown",
      "source": [
        "**pop**"
      ],
      "metadata": {
        "id": "F09m1ttiHM-r"
      }
    },
    {
      "cell_type": "code",
      "source": [
        "numbers = [1, 2, 3, 4, 5]\n",
        "\n",
        "#imprimir todos los elementos de la lista\n",
        "print(\"Lista original \", numbers)\n",
        "\n",
        "#eliminar el segundo valor de la lista\n",
        "i = 1\n",
        "n = numbers.pop(i)\n",
        "\n",
        "#imprimir todos los elementos de la lista\n",
        "print(\"Eliminado el valor \", n ,\" de la lista con pop(\", i,\")\")\n",
        "#imprimir todos los elementos de la lista\n",
        "print(\"Nueva lista despues de pop(\", i,\")\", numbers)\n",
        "\n",
        "\n",
        "#eliminar el ultimo valor de la lista\n",
        "n = numbers.pop()\n",
        "\n",
        "#imprimir todos los elementos de la lista\n",
        "print(\"Eliminado el ultimo valor, \", n ,\", de la lista  con pop()\")\n",
        "#imprimir todos los elementos de la lista\n",
        "print(\"Nueva lista despues de pop() \", numbers)"
      ],
      "metadata": {
        "id": "OA01u5krHKax"
      },
      "execution_count": null,
      "outputs": []
    },
    {
      "cell_type": "markdown",
      "source": [
        "**remove**"
      ],
      "metadata": {
        "id": "HEN7M5RHHS17"
      }
    },
    {
      "cell_type": "code",
      "source": [
        "numbers = [1, 2, 3, 4, 5]\n",
        "\n",
        "#imprimir todos los elementos de la lista\n",
        "print(\"Lista original \", numbers)\n",
        "\n",
        "#eliminar la primera aparicion de n en la lista\n",
        "n = 3\n",
        "\n",
        "numbers.remove(n)\n",
        "print(\"Nueva lista despues de remove(\", n,\")\", numbers)"
      ],
      "metadata": {
        "id": "cP5oTuKeHQNl"
      },
      "execution_count": null,
      "outputs": []
    },
    {
      "cell_type": "markdown",
      "source": [
        "**reverse**"
      ],
      "metadata": {
        "id": "bFIjPu_VHXrF"
      }
    },
    {
      "cell_type": "code",
      "source": [
        "numbers = [1, 2, 3, 4, 5]\n",
        "\n",
        "#imprimir todos los elementos de la lista\n",
        "print(\"Lista original \", numbers)\n",
        "\n",
        "numbers.reverse()\n",
        "#lista invertida\n",
        "print(\"Lista invertida con reverse\", numbers)"
      ],
      "metadata": {
        "id": "KhV2Myh9HUuF"
      },
      "execution_count": null,
      "outputs": []
    },
    {
      "cell_type": "markdown",
      "source": [
        "**sort**"
      ],
      "metadata": {
        "id": "KKpgxlGoHeHM"
      }
    },
    {
      "cell_type": "code",
      "source": [
        "numbers = [5, 1, 4, 3, 2]\n",
        "\n",
        "#imprimir todos los elementos de la lista\n",
        "print(\"Lista original: \", numbers)\n",
        "\n",
        "#Ordenar la lista de numeros\n",
        "numbers.sort()\n",
        "\n",
        "#imprimir todos los elementos de la lista\n",
        "print(\"Lista ordenada: \", numbers)"
      ],
      "metadata": {
        "id": "WnwM1-WHHZvt"
      },
      "execution_count": null,
      "outputs": []
    },
    {
      "cell_type": "markdown",
      "source": [
        "**del**"
      ],
      "metadata": {
        "id": "ZI8Y5wSzHiYh"
      }
    },
    {
      "cell_type": "code",
      "source": [
        "numbers = [1, 2, 3, 4, 5]\n",
        "\n",
        "#imprimir todos los elementos de la lista\n",
        "print(\"Lista original: \", numbers)\n",
        "\n",
        "#eliminar el segundo valor de la lista\n",
        "del numbers[1]\n",
        "\n",
        "#imprimir todos los elementos de la lista\n",
        "print(\"Eliminado el elementos en la posicion 1 de la lista con del \")\n",
        "#imprimir todos los elementos de la lista\n",
        "print(\"Nueva lista: \", numbers)\n",
        "\n",
        "\n",
        "#del tambien funciona con slices\n",
        "del numbers[:-3:-1]\n",
        "\n",
        "#imprimir todos los elementos de la lista\n",
        "print(\"Eliminado un slice de la lista con del: \")\n",
        "#imprimir todos los elementos de la lista\n",
        "print(\"Nueva lista: \", numbers)"
      ],
      "metadata": {
        "id": "jxajsmWrHgAs"
      },
      "execution_count": null,
      "outputs": []
    },
    {
      "cell_type": "markdown",
      "source": [
        "**list(s)**"
      ],
      "metadata": {
        "id": "CSkxCw-7Hnij"
      }
    },
    {
      "cell_type": "code",
      "source": [
        "msj = \"Hola mundo!\"\n",
        "msj_list = list(msj)\n",
        "\n",
        "\n",
        "print(\"De cadena a lista:\", msj, \"->\", msj_list)"
      ],
      "metadata": {
        "id": "OM_sdu6LHksZ"
      },
      "execution_count": null,
      "outputs": []
    },
    {
      "cell_type": "code",
      "source": [
        "#Un ejemplo del operador in utilizando listas\n",
        "numbers = [1, 2, 3, 4, 5] \n",
        "\n",
        "n = 3\n",
        "if n in numbers:\n",
        "    print(n, \"esta contenido en \", numbers)\n",
        "\n",
        "n = 8\n",
        "if n in numbers:\n",
        "    print(n, \"esta contenido en \", numbers)"
      ],
      "metadata": {
        "id": "ZvqC0ogpIWSf"
      },
      "execution_count": null,
      "outputs": []
    },
    {
      "cell_type": "markdown",
      "source": [
        "## For\n",
        "\n",
        "En python, ```for``` es utilizado para recorrer _objetos_ iterables (como una lista) y ejecutar una secuencia de código para cada elemento de ésta.\n",
        "\n",
        "```\n",
        "for l in lista:\n",
        "  #secuencia de codigo\n",
        "```\n"
      ],
      "metadata": {
        "id": "82qM0RaeJok-"
      }
    },
    {
      "cell_type": "markdown",
      "source": [
        "Volviendo al ejemplo de la receta de cocina, ¿qué pasaría si tuvieras que presentar el menú a varios comensales? Repetir el código no es la mejor idea, utilizamos las estructuras de control como for y while.\n",
        "\n",
        "\n",
        "\n",
        "```\n",
        "# Repite lo que hay dentro 100 veces\n",
        "for i in range(100):\n",
        "  # Cocinamos la receta\n",
        "  poner_agua_hervir()\n",
        "  echar_pollo_hervir()\n",
        "  cortar_pollo()\n",
        "  freir_pollo()\n",
        "  mezclar_pollo_arroz()\n",
        "```\n",
        "\n"
      ],
      "metadata": {
        "id": "PL_ixGLJUO1C"
      }
    },
    {
      "cell_type": "code",
      "source": [
        "lista = [1, 2, 3, 4, 5]\n",
        "\n",
        "#recorriendo la lista elemento por elemento\n",
        "print(\"Usando for para recorrer e imprimir los elementos de una lista\")\n",
        "for num in lista:\n",
        "    print(num)"
      ],
      "metadata": {
        "id": "5YpZd2h8JkeP",
        "colab": {
          "base_uri": "https://localhost:8080/"
        },
        "outputId": "156139e4-8c3c-4b2a-fbd5-8fe2fbb6cb42"
      },
      "execution_count": 2,
      "outputs": [
        {
          "output_type": "stream",
          "name": "stdout",
          "text": [
            "Usando for para recorrer e imprimir los elementos de una lista\n",
            "1\n",
            "2\n",
            "3\n",
            "4\n",
            "5\n"
          ]
        }
      ]
    },
    {
      "cell_type": "markdown",
      "source": [
        "El tipo de dato range también se convierte útil en ciclos ```for```, ya que podemos recorrer un rango de números durante un ciclo ```for```.\n",
        "\n",
        "```\n",
        "for i in range(10):\n",
        "  #secuencia de código\n",
        "```"
      ],
      "metadata": {
        "id": "d_0dbswAJ7F3"
      }
    },
    {
      "cell_type": "code",
      "source": [
        "#Prueba a cambiar el valor de n\n",
        "n = 40\n",
        "#usando for y range para recorrer un rango de numeros\n",
        "print(\"Usando for y range para imprimir n numeros\")\n",
        "for i in range(n):\n",
        "    print(i)"
      ],
      "metadata": {
        "id": "ac9-UTOhJyPK",
        "colab": {
          "base_uri": "https://localhost:8080/"
        },
        "outputId": "99610e5f-ced9-42ca-8321-0db466e6143d"
      },
      "execution_count": 8,
      "outputs": [
        {
          "output_type": "stream",
          "name": "stdout",
          "text": [
            "Usando for y range para imprimir n numeros\n",
            "0\n",
            "1\n",
            "2\n",
            "3\n",
            "4\n",
            "5\n",
            "6\n",
            "7\n",
            "8\n",
            "9\n",
            "10\n",
            "11\n",
            "12\n",
            "13\n",
            "14\n",
            "15\n",
            "16\n",
            "17\n",
            "18\n",
            "19\n",
            "20\n",
            "21\n",
            "22\n",
            "23\n",
            "24\n",
            "25\n",
            "26\n",
            "27\n",
            "28\n",
            "29\n",
            "30\n",
            "31\n",
            "32\n",
            "33\n",
            "34\n",
            "35\n",
            "36\n",
            "37\n",
            "38\n",
            "39\n"
          ]
        }
      ]
    },
    {
      "cell_type": "markdown",
      "source": [
        "### List comprehensions\n",
        "\n",
        "En python, existe una manera compacta de crear listas conocida como list comprehession. Para esto usas un for dentro de la declaración de una lista para definir los elementos. Por ejemplo:\n",
        "\n",
        "```\n",
        "l = [x_exp for x in coleccion]\n",
        "```"
      ],
      "metadata": {
        "id": "iWYmMq3gKFRh"
      }
    },
    {
      "cell_type": "code",
      "source": [
        "#generando una lista con 10 numeros con un for\n",
        "numbers = []\n",
        "\n",
        "for x in range(10):\n",
        "    numbers.append(x)\n",
        "print(numbers)\n",
        "\n",
        "#usando list comprehession\n",
        "numbers = [x for x in range(10)]\n",
        "print(numbers)"
      ],
      "metadata": {
        "id": "Gl4XakSmJ-oz",
        "colab": {
          "base_uri": "https://localhost:8080/"
        },
        "outputId": "c83e1b9e-25a7-484a-a8b8-e4f86b6a825d"
      },
      "execution_count": 9,
      "outputs": [
        {
          "output_type": "stream",
          "name": "stdout",
          "text": [
            "[0, 1, 2, 3, 4, 5, 6, 7, 8, 9]\n",
            "[0, 1, 2, 3, 4, 5, 6, 7, 8, 9]\n"
          ]
        }
      ]
    },
    {
      "cell_type": "code",
      "source": [
        "#Algo mas avanzado\n",
        "#una lista con los cuadrados de los numeros de 0 al 9\n",
        "squares = []\n",
        "for x in range(10):\n",
        "    squares.append(x*x)\n",
        "print(squares)\n",
        "  \n",
        "#usando list comprehession\n",
        "squares = [x*x for x in range(10)]\n",
        "print(squares)"
      ],
      "metadata": {
        "id": "BWIqfWLQKK39",
        "colab": {
          "base_uri": "https://localhost:8080/"
        },
        "outputId": "0f1160d9-0e0f-4d7b-9a3d-628202ed3df8"
      },
      "execution_count": 10,
      "outputs": [
        {
          "output_type": "stream",
          "name": "stdout",
          "text": [
            "[0, 1, 4, 9, 16, 25, 36, 49, 64, 81]\n",
            "[0, 1, 4, 9, 16, 25, 36, 49, 64, 81]\n"
          ]
        }
      ]
    },
    {
      "cell_type": "code",
      "source": [
        "arreglo = [1,2,3]\n",
        "print(arreglo[2])"
      ],
      "metadata": {
        "colab": {
          "base_uri": "https://localhost:8080/"
        },
        "id": "QVc9hULl-Nlb",
        "outputId": "ed585f26-f199-4365-ad43-4973d2e431e8"
      },
      "execution_count": 13,
      "outputs": [
        {
          "output_type": "stream",
          "name": "stdout",
          "text": [
            "3\n"
          ]
        }
      ]
    },
    {
      "cell_type": "code",
      "source": [
        "number = 0\n",
        "\n",
        "for number in range(10):\n",
        "    if number == 5:\n",
        "        continue    # continue here\n",
        "\n",
        "    print('Number is ' + str(number))\n",
        "\n",
        "print('Out of loop')"
      ],
      "metadata": {
        "id": "AvDTQACWBG8O"
      },
      "execution_count": null,
      "outputs": []
    }
  ]
}