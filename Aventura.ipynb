{
  "nbformat": 4,
  "nbformat_minor": 0,
  "metadata": {
    "colab": {
      "provenance": [],
      "authorship_tag": "ABX9TyO5Tf5waAYos5rFkCz2+OPq",
      "include_colab_link": true
    },
    "kernelspec": {
      "name": "python3",
      "display_name": "Python 3"
    },
    "language_info": {
      "name": "python"
    }
  },
  "cells": [
    {
      "cell_type": "markdown",
      "metadata": {
        "id": "view-in-github",
        "colab_type": "text"
      },
      "source": [
        "<a href=\"https://colab.research.google.com/github/lidjud/Python-sem-23_1/blob/main/Aventura.ipynb\" target=\"_parent\"><img src=\"https://colab.research.google.com/assets/colab-badge.svg\" alt=\"Open In Colab\"/></a>"
      ]
    },
    {
      "cell_type": "markdown",
      "source": [
        "# **\"Elige tu propia aventura\"** 🌴 🐟 "
      ],
      "metadata": {
        "id": "MH5xqx3xgGkV"
      }
    },
    {
      "cell_type": "markdown",
      "source": [
        "Seguramente has leído o visto historias en la cual eres el protagonista y tu historia evoluciona a medida que vas tomando decisiones.\n",
        "\n",
        "El objetivo de este reto es realizar algo semejante programando con python, para ello debes utilizar condicionales como if, else, elif.\n",
        "\n",
        "Realiza un programa lleno de aventuras y permite que el usuario elija su camino.\n",
        "Puedes utilizar adivinanzas, operaciones matemáticas, etc.\n",
        "\n",
        "Antes de programar, realiza tu diagrama de flujo, una vez listo tu diagrama, prográmalo en python.\n",
        "\n",
        "A contiuación te dejo un enlace que puedes usar para agegar imágenes con [ASCII Art](https://ascii.co.uk/art) \n",
        "\n",
        "### **¡Te invito a que participes en esta aventura!**\n"
      ],
      "metadata": {
        "id": "9Vk3isq7gLBy"
      }
    },
    {
      "cell_type": "code",
      "execution_count": null,
      "metadata": {
        "id": "N6R5HavL73jB"
      },
      "outputs": [],
      "source": [
        "print('''\n",
        "*******************************************************************************\n",
        "          |                   |                  |                     |\n",
        " _________|________________.=\"\"_;=.______________|_____________________|_______\n",
        "|                   |  ,-\"_,=\"\"     `\"=.|                  |\n",
        "|___________________|__\"=._o`\"-._        `\"=.______________|___________________\n",
        "          |                `\"=._o`\"=._      _`\"=._                     |\n",
        " _________|_____________________:=._o \"=._.\"_.-=\"'\"=.__________________|_______\n",
        "|                   |    __.--\" , ; `\"=._o.\" ,-\"\"\"-._ \".   |\n",
        "|___________________|_._\"  ,. .` ` `` ,  `\"-._\"-._   \". '__|___________________\n",
        "          |           |o`\"=._` , \"` `; .\". ,  \"-._\"-._; ;              |\n",
        " _________|___________| ;`-.o`\"=._; .\" ` '`.\"\\` . \"-._ /_______________|_______\n",
        "|                   | |o;    `\"-.o`\"=._``  '` \" ,__.--o;   |\n",
        "|___________________|_| ;     (#) `-.o `\"=.`_.--\"_o.-; ;___|___________________\n",
        "____/______/______/___|o;._    \"      `\".o|o_.--\"    ;o;____/______/______/____\n",
        "/______/______/______/_\"=._o--._        ; | ;        ; ;/______/______/______/_\n",
        "____/______/______/______/__\"=._o--._   ;o|o;     _._;o;____/______/______/____\n",
        "/______/______/______/______/____\"=._o._; | ;_.--\"o.--\"_/______/______/______/_\n",
        "____/______/______/______/______/_____\"=.o|o_.--\"\"___/______/______/______/____\n",
        "/______/______/______/______/______/______/______/______/______/______/_____ /\n",
        "*******************************************************************************\n",
        "''')\n",
        "print(\"Bienvenido a la aventura de la isla.\")\n",
        "print(\"Tu misión es encontrar un tesoro.\")\n",
        "\n",
        "# choice1 es una variable que tomar el valor de izquiera o derecha\n",
        "# lower() es un método que utilizo para convertir en minúsculas el texto que ingrese el usuario\n",
        "\n",
        "choice1 = input('Te encuentras en una encrucijada. ¿Hacia qué lado quieres ir? Escribe una opción \"izquierda\" or \"derecha\" \\n').lower()\n",
        "\n",
        "# la primer declaración if verifica si la variable choice1 es igual a la \"izquierda\", si es así, entra a la segunda declaración if\n",
        "if choice1 == \"izquierda\":\n",
        "  choice2 = input('Has llegado a un lago. Veo una isla en medio del lago. Si deseas esperar a que un bote vaya por ti, escribe \"esperar\". \\n⛵ O tal vez prefieras \"nadar\" y cruzar el lago. \\n').lower()\n",
        "  if choice2 == \"esperar\":\n",
        "    choice3 = input(\"¡Lograste llegar ileso a la isla!. Hay una casa de palma con puertas de colores. Hay una roja, otra amarilla y una azul. ¿Qué color eliges? \\n\").lower()\n",
        "    if choice3 == \"roja\":\n",
        "      print(\"¡Es un cuarto lleno de fuego!. 🔥 \\033[1;31m GAME OVER \\033[m.\")\n",
        "    elif choice3 == \"amarilla\":\n",
        "      print(\"¡Encontraste el tesoro! 💰 \\033[4;30;42m YOU WIN \\033[m!\")\n",
        "    elif choice3 == \"azul\":\n",
        "      print(\"¡Es un cuarto lleno de animales y bestias salvajes. 🦖 \\033[1;31m GAME OVER \\033[m.\")\n",
        "    else:\n",
        "      print(\"Esa puerta no existe. \\033[1;31m GAME OVER \\033[m.\")\n",
        "  else:\n",
        "    print(\"Has sido atacado por una trucha gigante. 🐟 \\033[1;31m GAME OVER \\033[m.\")\n",
        "# else de la primer declaración if\n",
        "else:\n",
        "  print(\"Oh Oh!! Caiste en un profundo pozo. 🤕 \\033[1;31m GAME OVER \\033[m.\")"
      ]
    },
    {
      "cell_type": "code",
      "source": [],
      "metadata": {
        "id": "qwFAjxHS6RWW"
      },
      "execution_count": null,
      "outputs": []
    }
  ]
}