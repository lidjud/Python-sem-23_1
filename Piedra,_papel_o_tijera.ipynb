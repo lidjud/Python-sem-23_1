{
  "nbformat": 4,
  "nbformat_minor": 0,
  "metadata": {
    "colab": {
      "provenance": [],
      "authorship_tag": "ABX9TyOdXMpdz1GQRfJ7sF1ca7g2",
      "include_colab_link": true
    },
    "kernelspec": {
      "name": "python3",
      "display_name": "Python 3"
    },
    "language_info": {
      "name": "python"
    }
  },
  "cells": [
    {
      "cell_type": "markdown",
      "metadata": {
        "id": "view-in-github",
        "colab_type": "text"
      },
      "source": [
        "<a href=\"https://colab.research.google.com/github/lidjud/Python-sem-23_1/blob/main/Piedra%2C_papel_o_tijera.ipynb\" target=\"_parent\"><img src=\"https://colab.research.google.com/assets/colab-badge.svg\" alt=\"Open In Colab\"/></a>"
      ]
    },
    {
      "cell_type": "markdown",
      "source": [
        "#Juego de piedra, papel o tijera\n",
        "\n",
        "##Objetivo: Crea con python el juego de piedra, papel o tijera\n",
        "\n",
        "##Especificaciones:\n",
        "\n",
        "1. Para crear este juego debes usar declaraciones `if`, `elif` y `else`. \n",
        "\n",
        "2. El juego se debe jugar entre dos jugadores. \n",
        "\n",
        "3. EL jugador 1 será el usuario y el jugador 2 será la computadora.\n",
        "\n",
        "4. El jugador 1 seleccionará manualmente, un elemento: piedra, \n",
        "papel o tijera. Mientras que el jugador 2 elegirá de manera aleatoria. Utiliza  una lista\n",
        "\n",
        "5. Utiliza el modulo aleatorio de python (`random`) para crear este juego."
      ],
      "metadata": {
        "id": "TjUQGfb3ENPW"
      }
    },
    {
      "cell_type": "code",
      "source": [],
      "metadata": {
        "id": "QIRnM_VtFk48"
      },
      "execution_count": null,
      "outputs": []
    }
  ]
}