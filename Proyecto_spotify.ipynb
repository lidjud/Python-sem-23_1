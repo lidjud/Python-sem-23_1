{
  "nbformat": 4,
  "nbformat_minor": 0,
  "metadata": {
    "colab": {
      "provenance": [],
      "authorship_tag": "ABX9TyP1e5lBgJTphuLi1uGm9s13",
      "include_colab_link": true
    },
    "kernelspec": {
      "name": "python3",
      "display_name": "Python 3"
    },
    "language_info": {
      "name": "python"
    }
  },
  "cells": [
    {
      "cell_type": "markdown",
      "metadata": {
        "id": "view-in-github",
        "colab_type": "text"
      },
      "source": [
        "<a href=\"https://colab.research.google.com/github/lidjud/Python-sem-23_1/blob/main/Proyecto_spotify.ipynb\" target=\"_parent\"><img src=\"https://colab.research.google.com/assets/colab-badge.svg\" alt=\"Open In Colab\"/></a>"
      ]
    },
    {
      "cell_type": "markdown",
      "source": [
        "Exploración de datos de Spotify\n",
        "\n",
        "Objetivos:\n",
        "\n",
        "\n",
        "\n",
        "1.   Importar los datos desde un archivo .csv usando la librería pandas.\n",
        "2.   Realizar pasos para limpiar nuestros datos.\n",
        "3.   Explorar y manipular los datos usando Pandas.\n",
        "4.   Visualizar hallazgos utilizando las funciones integradas de Pandas.\n"
      ],
      "metadata": {
        "id": "LfU7heOT5vKj"
      }
    },
    {
      "cell_type": "code",
      "execution_count": null,
      "metadata": {
        "id": "EhIkhw0y5uZg"
      },
      "outputs": [],
      "source": [
        "#Importar los datos. \n",
        "import pandas as pd\n",
        "data0 = pd.read_csv(\"/content/dataset.csv\", encoding_errors= 'replace')"
      ]
    },
    {
      "cell_type": "code",
      "source": [
        "data0.head()"
      ],
      "metadata": {
        "id": "iuMly1yn6mn6"
      },
      "execution_count": null,
      "outputs": []
    },
    {
      "cell_type": "code",
      "source": [
        "data0.columns"
      ],
      "metadata": {
        "id": "7IuX7ycbi0S3"
      },
      "execution_count": null,
      "outputs": []
    },
    {
      "cell_type": "code",
      "source": [
        "data0.describe(include = \"all\")"
      ],
      "metadata": {
        "id": "IRL6ZFnDjnq-"
      },
      "execution_count": null,
      "outputs": []
    },
    {
      "cell_type": "code",
      "source": [
        "data0.query('artists == \"Jason Mraz\"')"
      ],
      "metadata": {
        "id": "0mLhXG8Nk_TI"
      },
      "execution_count": null,
      "outputs": []
    },
    {
      "cell_type": "markdown",
      "source": [
        "Limpieza de datos"
      ],
      "metadata": {
        "id": "wvJhxigb7ALJ"
      }
    },
    {
      "cell_type": "code",
      "source": [
        "data0.isna().sum(axis=0).to_frame().T"
      ],
      "metadata": {
        "id": "ovktbj0Tqgj2"
      },
      "execution_count": null,
      "outputs": []
    },
    {
      "cell_type": "code",
      "source": [
        "data1 = data0.dropna(axis=0, how='any')"
      ],
      "metadata": {
        "id": "f1i0o2d0qoAV"
      },
      "execution_count": null,
      "outputs": []
    },
    {
      "cell_type": "code",
      "source": [
        "empty_columns = data1.isna().sum(axis=0).to_frame().T\n",
        "empty_columns"
      ],
      "metadata": {
        "id": "QNOow3H0qtQ9"
      },
      "execution_count": null,
      "outputs": []
    },
    {
      "cell_type": "code",
      "source": [
        "data0 = data1"
      ],
      "metadata": {
        "id": "oiUiQYNDq0Ks"
      },
      "execution_count": null,
      "outputs": []
    },
    {
      "cell_type": "markdown",
      "source": [
        "Hay una columna que es innecesaria. Elimina la columna \"track_id\" desde la biobioteca de pandas."
      ],
      "metadata": {
        "id": "XIRIHJYqxnO7"
      }
    },
    {
      "cell_type": "code",
      "source": [
        "df = data0.drop([\"track_id\"], axis=1)"
      ],
      "metadata": {
        "id": "PRCrJdkK62D6"
      },
      "execution_count": null,
      "outputs": []
    },
    {
      "cell_type": "code",
      "source": [
        "df.head()"
      ],
      "metadata": {
        "id": "eEXP4lQz7Xsa"
      },
      "execution_count": null,
      "outputs": []
    },
    {
      "cell_type": "markdown",
      "source": [
        "Escribios con mayúsculas las letras iniciales de las columnas."
      ],
      "metadata": {
        "id": "GjXcoLVY8G-Z"
      }
    },
    {
      "cell_type": "code",
      "source": [
        "df.columns = df.columns.map(lambda capital: capital.capitalize())"
      ],
      "metadata": {
        "id": "zqBwzde07w7a"
      },
      "execution_count": null,
      "outputs": []
    },
    {
      "cell_type": "code",
      "source": [
        "df.head()"
      ],
      "metadata": {
        "id": "8CvLCnsk8AEZ"
      },
      "execution_count": null,
      "outputs": []
    },
    {
      "cell_type": "markdown",
      "source": [
        "Análisis exploratorio"
      ],
      "metadata": {
        "id": "7z2MEDSyrEg8"
      }
    },
    {
      "cell_type": "markdown",
      "source": [
        "Muestra el Top 3 de jugadores con mayor popularidad en el mercado."
      ],
      "metadata": {
        "id": "lREGH_8prHFl"
      }
    },
    {
      "cell_type": "code",
      "source": [
        "df.sort_values('Danceability', ascending = False).head(3)"
      ],
      "metadata": {
        "id": "Gks_g9_V8BPL"
      },
      "execution_count": null,
      "outputs": []
    },
    {
      "cell_type": "code",
      "source": [
        "df.sort_values('Popularity', ascending = False).head(3)"
      ],
      "metadata": {
        "id": "5KK_lsyQrP3G"
      },
      "execution_count": null,
      "outputs": []
    },
    {
      "cell_type": "markdown",
      "source": [
        "¿Podrás crear alguna fórmula para tener el \"Potencial\" de cada uno de los artistas?"
      ],
      "metadata": {
        "id": "6tb1iDjzxxCS"
      }
    },
    {
      "cell_type": "code",
      "source": [
        "df[\"Potential\"] = df[\"Popularity\"] - df[\"Danceability\"]\n",
        "df.tail()"
      ],
      "metadata": {
        "id": "FawziLEEvpro"
      },
      "execution_count": null,
      "outputs": []
    },
    {
      "cell_type": "code",
      "source": [
        "idx = df['Potential'].idxmax()\n",
        "df.loc[idx, [\"Artists\", \"Album_name\", \"Track_name\", \"Popularity\"]]"
      ],
      "metadata": {
        "id": "xgC2lPYYvVW9"
      },
      "execution_count": null,
      "outputs": []
    },
    {
      "cell_type": "code",
      "source": [
        "df_Popularity = pd.DataFrame(df['Popularity'].value_counts())\n",
        "percent_P = df_Popularity.apply(lambda x: 100*x/(x.sum()))\n",
        "percent_P.head(10)"
      ],
      "metadata": {
        "id": "nvYgBQ_ywNrc"
      },
      "execution_count": null,
      "outputs": []
    },
    {
      "cell_type": "code",
      "source": [],
      "metadata": {
        "id": "VYDK8YA2w3IC"
      },
      "execution_count": null,
      "outputs": []
    }
  ]
}