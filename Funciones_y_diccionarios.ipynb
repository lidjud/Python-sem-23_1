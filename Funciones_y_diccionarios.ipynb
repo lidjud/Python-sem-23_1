{
  "nbformat": 4,
  "nbformat_minor": 0,
  "metadata": {
    "colab": {
      "provenance": [],
      "authorship_tag": "ABX9TyM+7vAfeGQ9F8G4rQOwjSaG",
      "include_colab_link": true
    },
    "kernelspec": {
      "name": "python3",
      "display_name": "Python 3"
    },
    "language_info": {
      "name": "python"
    }
  },
  "cells": [
    {
      "cell_type": "markdown",
      "metadata": {
        "id": "view-in-github",
        "colab_type": "text"
      },
      "source": [
        "<a href=\"https://colab.research.google.com/github/lidjud/Python-sem-23_1/blob/main/Funciones_y_diccionarios.ipynb\" target=\"_parent\"><img src=\"https://colab.research.google.com/assets/colab-badge.svg\" alt=\"Open In Colab\"/></a>"
      ]
    },
    {
      "cell_type": "markdown",
      "source": [
        "# Funciones\n",
        "\n",
        "Una función es un bloque de código que solo se ejecuta cuando se le llama.\n",
        "\n",
        "Puede pasar datos, conocidos como parámetros, a una función.\n",
        "\n",
        "Una función puede devolver datos como resultado."
      ],
      "metadata": {
        "id": "UtAsd9yfOzTR"
      }
    },
    {
      "cell_type": "markdown",
      "source": [
        "En Python, una función se define usando la palabra clave def :"
      ],
      "metadata": {
        "id": "P49sWxaQO6OP"
      }
    },
    {
      "cell_type": "code",
      "source": [
        "def my_function():\n",
        "  print(\"Hello from a function\")"
      ],
      "metadata": {
        "id": "U-Sb3VcLO8HG"
      },
      "execution_count": 1,
      "outputs": []
    },
    {
      "cell_type": "markdown",
      "source": [
        "Para llamar a una función, usa el nombre de la función seguido de paréntesis:"
      ],
      "metadata": {
        "id": "FGVybraQO_af"
      }
    },
    {
      "cell_type": "code",
      "source": [
        "def my_function():\n",
        "  print(\"Hello from a function\")\n",
        "\n",
        "my_function()"
      ],
      "metadata": {
        "id": "zGX4weUTPCPX"
      },
      "execution_count": null,
      "outputs": []
    },
    {
      "cell_type": "markdown",
      "source": [
        "### Argumentos\n",
        "La información se puede pasar a funciones como argumentos.\n",
        "\n",
        "Los argumentos se especifican después del nombre de la función, entre paréntesis. Puedes agregar tantos argumentos como desee, simplemente sepáralos con una coma.\n",
        "\n",
        "El siguiente ejemplo tiene una función con un argumento (fname). Cuando se llama a la función, pasamos un nombre, que se usa dentro de la función para imprimir el nombre completo:"
      ],
      "metadata": {
        "id": "fKaFaMmjPK3v"
      }
    },
    {
      "cell_type": "code",
      "source": [
        "def my_function(fname):\n",
        "  print(fname + \" Refsnes\")\n",
        "\n",
        "my_function(\"Emil\")\n",
        "my_function(\"Tobias\")\n",
        "my_function(\"Linus\")"
      ],
      "metadata": {
        "id": "xkJe2GLXPPy_"
      },
      "execution_count": null,
      "outputs": []
    },
    {
      "cell_type": "markdown",
      "source": [
        "Desde la perspectiva de una función:\n",
        "\n",
        "Un parámetro es la variable que aparece entre paréntesis en la definición de la función.\n",
        "\n",
        "Un argumento es el valor que se envía a la función cuando se llama."
      ],
      "metadata": {
        "id": "hVGUEdBePczu"
      }
    },
    {
      "cell_type": "code",
      "source": [
        "def my_function(fname, lname):\n",
        "  print(fname + \" \" + lname)\n",
        "\n",
        "my_function(\"Emil\", \"Refsnes\")"
      ],
      "metadata": {
        "id": "SVtljBy4Piau"
      },
      "execution_count": null,
      "outputs": []
    },
    {
      "cell_type": "markdown",
      "source": [
        "Argumentos arbitrarios, *args\n",
        "Si no sabes cuántos argumentos se pasarán a su función, agregue un *antes del nombre del parámetro en la definición de la función.\n",
        "\n",
        "De esta manera, la función recibirá una tupla de argumentos y podrás acceder a los elementos en consecuencia:"
      ],
      "metadata": {
        "id": "raDXW-o1P6sA"
      }
    },
    {
      "cell_type": "code",
      "source": [
        "def my_function(*kids):\n",
        "  print(\"The youngest child is \" + kids[2])\n",
        "\n",
        "my_function(\"Emil\", \"Tobias\", \"Linus\")"
      ],
      "metadata": {
        "id": "LWBSW7D8P1p4"
      },
      "execution_count": null,
      "outputs": []
    },
    {
      "cell_type": "markdown",
      "source": [
        "También puedes enviar argumentos con la sintaxis clave = valor ."
      ],
      "metadata": {
        "id": "1N--54osQC5A"
      }
    },
    {
      "cell_type": "code",
      "source": [
        "def my_function(child3, child2, child1):\n",
        "  print(\"The youngest child is \" + child3)\n",
        "\n",
        "my_function(child1 = \"Emil\", child2 = \"Tobias\", child3 = \"Linus\")"
      ],
      "metadata": {
        "id": "SJgpgbCYQGKI"
      },
      "execution_count": null,
      "outputs": []
    },
    {
      "cell_type": "markdown",
      "source": [
        "El siguiente ejemplo muestra cómo utilizar un valor de parámetro predeterminado."
      ],
      "metadata": {
        "id": "EL3JTE9qQnmS"
      }
    },
    {
      "cell_type": "code",
      "source": [
        "def my_function(country = \"Norway\"):\n",
        "  print(\"I am from \" + country)\n",
        "\n",
        "my_function(\"Sweden\")\n",
        "my_function(\"India\")\n",
        "my_function()\n",
        "my_function(\"Brazil\")"
      ],
      "metadata": {
        "id": "qZDFaRz3QjDQ"
      },
      "execution_count": null,
      "outputs": []
    },
    {
      "cell_type": "markdown",
      "source": [
        "Pasar una lista como argumento\n",
        "\n",
        "Puedes enviar cualquier tipo de datos de argumento a una función (cadena, número, lista, diccionario, etc.), y se tratará como el mismo tipo de datos dentro de la función."
      ],
      "metadata": {
        "id": "pP3vR_wCQwsv"
      }
    },
    {
      "cell_type": "code",
      "source": [
        "def my_function(food):\n",
        "  for x in food:\n",
        "    print(x)\n",
        "\n",
        "fruits = [\"apple\", \"banana\", \"cherry\"]\n",
        "\n",
        "my_function(fruits)"
      ],
      "metadata": {
        "id": "5_Svn6SlQqvw"
      },
      "execution_count": null,
      "outputs": []
    },
    {
      "cell_type": "markdown",
      "source": [
        "###Valores devueltos\n",
        "\n",
        "Para permitir que una función devuelva un valor, use la return declaración:"
      ],
      "metadata": {
        "id": "nc99QSNPQ28I"
      }
    },
    {
      "cell_type": "code",
      "source": [
        "def my_function(x):\n",
        "  return 5 * x\n",
        "\n",
        "print(my_function(3))\n",
        "print(my_function(5))\n",
        "print(my_function(9))"
      ],
      "metadata": {
        "id": "sHyiihsLQ5p4"
      },
      "execution_count": null,
      "outputs": []
    },
    {
      "cell_type": "markdown",
      "source": [
        "# Diccionarios\n",
        "\n",
        "Los diccionarios se utilizan para almacenar valores de datos en pares clave:valor.\n",
        "\n",
        "Un diccionario es una colección ordenada, modificable y que no admite duplicados.\n",
        "\n",
        "Los diccionarios se escriben con corchetes y tienen claves y valores:"
      ],
      "metadata": {
        "id": "0XZo2LxCIXde"
      }
    },
    {
      "cell_type": "code",
      "source": [
        "cars_dict = {\n",
        "  \"brand\": \"Ford\",\n",
        "  \"model\": \"Mustang\",\n",
        "  \"year\": 1964\n",
        "}\n",
        "print(cars_dict)"
      ],
      "metadata": {
        "id": "siu_KcoWIXIf"
      },
      "execution_count": null,
      "outputs": []
    },
    {
      "cell_type": "markdown",
      "source": [
        "Se puede hacer referencia a los elementos mediante el nombre de la clave"
      ],
      "metadata": {
        "id": "Ew9ORvrBI4VG"
      }
    },
    {
      "cell_type": "code",
      "source": [
        "cars_dict = {\n",
        "  \"brand\": \"Ford\",\n",
        "  \"model\": \"Mustang\",\n",
        "  \"year\": 1964\n",
        "}\n",
        "print(cars_dict[\"brand\"])"
      ],
      "metadata": {
        "id": "G7uyAhKiJGQ3"
      },
      "execution_count": null,
      "outputs": []
    },
    {
      "cell_type": "markdown",
      "source": [
        "Los diccionarios no pueden tener dos elementos con la misma clave:"
      ],
      "metadata": {
        "id": "pbkp9g7QJhfv"
      }
    },
    {
      "cell_type": "code",
      "source": [
        "cars_dict = {\n",
        "  \"brand\": \"Ford\",\n",
        "  \"model\": \"Mustang\",\n",
        "  \"year\": 1964,\n",
        "  \"year\": 2020\n",
        "}\n",
        "print(cars_dict)"
      ],
      "metadata": {
        "id": "kH-xQUFuJgzO"
      },
      "execution_count": null,
      "outputs": []
    },
    {
      "cell_type": "code",
      "source": [
        "print(len(cars_dict))"
      ],
      "metadata": {
        "id": "4j1TLYfhJmtG"
      },
      "execution_count": null,
      "outputs": []
    },
    {
      "cell_type": "markdown",
      "source": [
        "Los valores en los elementos del diccionario pueden ser de cualquier tipo de datos:"
      ],
      "metadata": {
        "id": "VUPVY7mMJ1Jf"
      }
    },
    {
      "cell_type": "code",
      "source": [
        "cars_dict = {\n",
        "  \"brand\": \"Ford\",\n",
        "  \"electric\": False,\n",
        "  \"year\": 1964,\n",
        "  \"colors\": [\"red\", \"white\", \"blue\"]\n",
        "}\n",
        "print(cars_dict)"
      ],
      "metadata": {
        "id": "RW0KCWl1JtTO"
      },
      "execution_count": null,
      "outputs": []
    },
    {
      "cell_type": "markdown",
      "source": [
        "Puedes acceder a los elementos de un diccionario haciendo referencia a su nombre clave, entre corchetes:"
      ],
      "metadata": {
        "id": "ORRLEN1TKAzu"
      }
    },
    {
      "cell_type": "code",
      "source": [
        "cars_dict = {\n",
        "  \"brand\": \"Ford\",\n",
        "  \"model\": \"Mustang\",\n",
        "  \"year\": 1964,\n",
        "  \"colors\": [\"red\", \"white\", \"blue\"]\n",
        "}\n",
        "x = cars_dict[\"model\"]\n",
        "x"
      ],
      "metadata": {
        "id": "hp1iqvA3KD5u"
      },
      "execution_count": null,
      "outputs": []
    },
    {
      "cell_type": "markdown",
      "source": [
        "También hay un método llamado get() que te dará el mismo resultado:"
      ],
      "metadata": {
        "id": "QYBDmj23KM5-"
      }
    },
    {
      "cell_type": "code",
      "source": [
        "x = cars_dict.get(\"colors\")\n",
        "x"
      ],
      "metadata": {
        "id": "MbeasDcoKHQn"
      },
      "execution_count": null,
      "outputs": []
    },
    {
      "cell_type": "markdown",
      "source": [
        "El método keys() devolverá una lista de todas las claves del diccionario."
      ],
      "metadata": {
        "id": "lPNq7T-3Kcxl"
      }
    },
    {
      "cell_type": "code",
      "source": [
        "x = cars_dict.keys()\n",
        "x"
      ],
      "metadata": {
        "id": "toGyPIN8Ke5G"
      },
      "execution_count": null,
      "outputs": []
    },
    {
      "cell_type": "code",
      "source": [
        "car = {\n",
        "\"brand\": \"Ford\",\n",
        "\"model\": \"Mustang\",\n",
        "\"year\": 1964\n",
        "}\n",
        "\n",
        "x = car.keys()\n",
        "\n",
        "print(x) #before the change\n",
        "\n",
        "car[\"color\"] = \"white\"\n",
        "\n",
        "print(x) #after the change"
      ],
      "metadata": {
        "id": "36lMnXnyKmwe"
      },
      "execution_count": null,
      "outputs": []
    },
    {
      "cell_type": "markdown",
      "source": [
        "El método values() devolverá una lista de todos los valores en el diccionario."
      ],
      "metadata": {
        "id": "TxAT8cChKt0o"
      }
    },
    {
      "cell_type": "code",
      "source": [
        "x = cars_dict.values()\n",
        "x"
      ],
      "metadata": {
        "id": "d-9Wls99Kv5G"
      },
      "execution_count": null,
      "outputs": []
    },
    {
      "cell_type": "code",
      "source": [
        "car = {\n",
        "\"brand\": \"Ford\",\n",
        "\"model\": \"Mustang\",\n",
        "\"year\": 1964\n",
        "}\n",
        "\n",
        "x = car.values()\n",
        "\n",
        "print(x) #before the change\n",
        "\n",
        "car[\"year\"] = 2020\n",
        "\n",
        "print(x) #after the change"
      ],
      "metadata": {
        "id": "rvHtstQKK4q2"
      },
      "execution_count": null,
      "outputs": []
    },
    {
      "cell_type": "code",
      "source": [
        "car = {\n",
        "\"brand\": \"Ford\",\n",
        "\"model\": \"Mustang\",\n",
        "\"year\": 1964\n",
        "}\n",
        "\n",
        "x = car.values()\n",
        "\n",
        "print(x) #before the change\n",
        "\n",
        "car[\"color\"] = \"red\"\n",
        "\n",
        "print(x) #after the change"
      ],
      "metadata": {
        "id": "ap3Qsr5LK8dX"
      },
      "execution_count": null,
      "outputs": []
    },
    {
      "cell_type": "markdown",
      "source": [
        "El método items() devolverá cada elemento en un diccionario, como tuplas en una lista."
      ],
      "metadata": {
        "id": "joaCuHD5LDON"
      }
    },
    {
      "cell_type": "code",
      "source": [
        "x = cars_dict.items()\n",
        "x"
      ],
      "metadata": {
        "id": "XLqw0ktPLCZf"
      },
      "execution_count": null,
      "outputs": []
    },
    {
      "cell_type": "markdown",
      "source": [
        "Para determinar si una clave específica está presente en un diccionario, usa la palabra clave in:"
      ],
      "metadata": {
        "id": "xU6glP1WLS0-"
      }
    },
    {
      "cell_type": "code",
      "source": [
        "cars_dict = {\n",
        "  \"brand\": \"Ford\",\n",
        "  \"model\": \"Mustang\",\n",
        "  \"year\": 1964\n",
        "}\n",
        "if \"model\" in cars_dict:\n",
        "  print(\"Yes, 'model' is one of the keys in the cars_dict dictionary\")"
      ],
      "metadata": {
        "id": "02UghZo0LSiY"
      },
      "execution_count": null,
      "outputs": []
    },
    {
      "cell_type": "markdown",
      "source": [
        "El método pop() elimina el elemento con el nombre de clave especificado:"
      ],
      "metadata": {
        "id": "HHgshVUqLm7X"
      }
    },
    {
      "cell_type": "code",
      "source": [
        "cars_dict = {\n",
        "  \"brand\": \"Ford\",\n",
        "  \"model\": \"Mustang\",\n",
        "  \"year\": 1964\n",
        "}\n",
        "cars_dict.pop(\"model\")\n",
        "print(cars_dict)"
      ],
      "metadata": {
        "id": "swAHOd5xLpqn"
      },
      "execution_count": null,
      "outputs": []
    },
    {
      "cell_type": "markdown",
      "source": [
        "El método popitem() elimina el último elemento insertado"
      ],
      "metadata": {
        "id": "lN0LSv1TL4P4"
      }
    },
    {
      "cell_type": "code",
      "source": [
        "cars_dict = {\n",
        "  \"brand\": \"Ford\",\n",
        "  \"model\": \"Mustang\",\n",
        "  \"year\": 1964\n",
        "}\n",
        "cars_dict.popitem()\n",
        "print(cars_dict)"
      ],
      "metadata": {
        "id": "EnHUAwg6L07O"
      },
      "execution_count": null,
      "outputs": []
    },
    {
      "cell_type": "markdown",
      "source": [
        "La palabra clave del elimina el elemento con el nombre de clave especificado:"
      ],
      "metadata": {
        "id": "mjCSwoZpL-af"
      }
    },
    {
      "cell_type": "code",
      "source": [
        "cars_dict = {\n",
        "  \"brand\": \"Ford\",\n",
        "  \"model\": \"Mustang\",\n",
        "  \"year\": 1964\n",
        "}\n",
        "\n",
        "del cars_dict[\"model\"]\n",
        "print(cars_dict)"
      ],
      "metadata": {
        "id": "iaWwI2x-MAOm"
      },
      "execution_count": null,
      "outputs": []
    },
    {
      "cell_type": "markdown",
      "source": [
        "La palabra clave del también puede eliminar el diccionario por completo:"
      ],
      "metadata": {
        "id": "WmsN28TwMJzu"
      }
    },
    {
      "cell_type": "code",
      "source": [
        "cars_dict = {\n",
        "  \"brand\": \"Ford\",\n",
        "  \"model\": \"Mustang\",\n",
        "  \"year\": 1964\n",
        "}\n",
        "del cars_dict\n",
        "\n",
        "print(cars_dict) #this will cause an error because \"thisdict\" no longer exists."
      ],
      "metadata": {
        "id": "v3W1vyg5MIYG"
      },
      "execution_count": null,
      "outputs": []
    },
    {
      "cell_type": "markdown",
      "source": [
        "El método clear() vacía el diccionario: "
      ],
      "metadata": {
        "id": "7R7134HoMPX3"
      }
    },
    {
      "cell_type": "code",
      "source": [
        "cars_dict = {\n",
        "  \"brand\": \"Ford\",\n",
        "  \"model\": \"Mustang\",\n",
        "  \"year\": 1964\n",
        "}\n",
        "\n",
        "cars_dict.clear()\n",
        "print(cars_dict)"
      ],
      "metadata": {
        "id": "ifmUHXzdMTpG"
      },
      "execution_count": null,
      "outputs": []
    },
    {
      "cell_type": "code",
      "source": [
        "for x in cars_dict:\n",
        "  print(x)"
      ],
      "metadata": {
        "id": "_VgGcfekMcCv"
      },
      "execution_count": null,
      "outputs": []
    },
    {
      "cell_type": "code",
      "source": [
        "for x in cars_dict:\n",
        "  print(cars_dict[x])"
      ],
      "metadata": {
        "id": "yF0HQt4TMnfG"
      },
      "execution_count": null,
      "outputs": []
    },
    {
      "cell_type": "code",
      "source": [
        "for x in cars_dict.values():\n",
        "  print(x)"
      ],
      "metadata": {
        "id": "_PxpYPZBMrWH"
      },
      "execution_count": null,
      "outputs": []
    },
    {
      "cell_type": "code",
      "source": [
        "for x in cars_dict.keys():\n",
        "  print(x)"
      ],
      "metadata": {
        "id": "ld8Uws7yMvgZ"
      },
      "execution_count": null,
      "outputs": []
    },
    {
      "cell_type": "code",
      "source": [
        "for x, y in cars_dict.items():\n",
        "  print(x, y)"
      ],
      "metadata": {
        "id": "brpBb5Z1Mzyn"
      },
      "execution_count": null,
      "outputs": []
    },
    {
      "cell_type": "code",
      "source": [
        "child1 = {\n",
        "  \"name\" : \"Emil\",\n",
        "  \"year\" : 2004\n",
        "}\n",
        "child2 = {\n",
        "  \"name\" : \"Tobias\",\n",
        "  \"year\" : 2007\n",
        "}\n",
        "child3 = {\n",
        "  \"name\" : \"Linus\",\n",
        "  \"year\" : 2011\n",
        "}\n",
        "\n",
        "myfamily = {\n",
        "  \"child1\" : child1,\n",
        "  \"child2\" : child2,\n",
        "  \"child3\" : child3\n",
        "}\n",
        "\n",
        "myfamily"
      ],
      "metadata": {
        "id": "zQ2FHNBhM6YH"
      },
      "execution_count": null,
      "outputs": []
    },
    {
      "cell_type": "markdown",
      "source": [
        "# Ejercicios bases de Python\n",
        "## Estructuras, asignación y funciones\n",
        "\n",
        "### Creando una agenda\n",
        "Utiliza los conceptos básicos de python para crear una agenda telefónica. Deberás completar las funciones crear_agenda, agregar_contacto, eliminimar_contacto y buscar_contacto que se encuentran en las siguientes celdas.\n",
        "\n",
        "* **crear_agenda()**, esta función devuelve una nueva agenda vacía, elige el tipo de dato que creas adecuado para este proposito.\n",
        "\n",
        "* **agregar_contacto(agenda, nombre, numero)**, esta función debe permitir agregar un nuevo contacto a la agenda, además si un contacto ya existe con el nombre recibido entonces debes almacenar su nuevo numero sin eliminar el anterior.\n",
        "\n",
        "* **buscar_contacto(agenda, nombre)**, esta función debe de regresar el o los números registados de un contacto, si el contacto no existe entonces imprimer el mensaje \"Contacto no encontrado en la agenda\".\n",
        "\n",
        "* **eliminar_contacto(agenda, nombre)**, esta función permite eliminar a un contacto de la agenda, si el contacto no existe entonces imprimer el mensaje \"Contacto no encontrado en la agenda\"."
      ],
      "metadata": {
        "id": "oPfl0IINweu-"
      }
    },
    {
      "cell_type": "code",
      "execution_count": 1,
      "metadata": {
        "id": "50jiphPdvQ7T"
      },
      "outputs": [],
      "source": [
        "def crear_agenda():\n",
        "    #tu código\n",
        "    return agenda"
      ]
    },
    {
      "cell_type": "code",
      "source": [
        "def agregar_contacto(agenda, nombre, numero):\n",
        "    if nombre in agenda:\n",
        "        if numero not in agenda[nombre]:\n",
        "            #tu código\n",
        "    else:\n",
        "        agenda[nombre] = [numero]\n",
        "    return agenda"
      ],
      "metadata": {
        "id": "Nh5FHoU9vTRH"
      },
      "execution_count": 2,
      "outputs": []
    },
    {
      "cell_type": "code",
      "source": [
        "agenda = #tu código, crea tu agenda"
      ],
      "metadata": {
        "id": "sqjE-gfQvVT2"
      },
      "execution_count": 3,
      "outputs": []
    },
    {
      "cell_type": "code",
      "source": [
        "agenda = agregar_contacto(#tu código) Agrega un nuevo contacto\n",
        "print(agenda)"
      ],
      "metadata": {
        "id": "bqKQN4mDvckF"
      },
      "execution_count": null,
      "outputs": []
    },
    {
      "cell_type": "code",
      "source": [
        "agenda = agregar_contacto(#tu código) Agrega un nuevo contacto\n",
        "print(agenda)"
      ],
      "metadata": {
        "id": "JmOpwCusvdt2"
      },
      "execution_count": null,
      "outputs": []
    },
    {
      "cell_type": "code",
      "source": [
        "agenda = agregar_contacto(#tu código) Agrega un nuevo contacto\n",
        "print(agenda)"
      ],
      "metadata": {
        "id": "458xC90Tvfbl"
      },
      "execution_count": null,
      "outputs": []
    },
    {
      "cell_type": "code",
      "source": [
        "agenda = agregar_contacto(#tu código) Agrega un nuevo nuevo a uno de los contactos\n",
        "print(agenda)"
      ],
      "metadata": {
        "id": "AFnEQMmAvhQW"
      },
      "execution_count": null,
      "outputs": []
    },
    {
      "cell_type": "code",
      "source": [
        "def buscar_contacto(agenda, nombre):\n",
        "    if nombre in agenda:\n",
        "        #tu código\n",
        "        for nom in agenda[nombre]:\n",
        "            print(nom)\n",
        "    else:\n",
        "        print('Contacto agregado')\n",
        "    return"
      ],
      "metadata": {
        "id": "J9DEjoMTv2Rk"
      },
      "execution_count": 8,
      "outputs": []
    },
    {
      "cell_type": "code",
      "source": [
        "buscar_contacto(#tu código)\n",
        "agenda = agregar_contacto(#Agrega un nuevo nuevo a uno de los contactos)\n",
        "buscar_contacto(#tu código)"
      ],
      "metadata": {
        "id": "82GithgWv5B1"
      },
      "execution_count": null,
      "outputs": []
    },
    {
      "cell_type": "code",
      "source": [
        "def eliminar_contacto(#tu código):\n",
        "    if nombre in agenda:\n",
        "        #tu código\n",
        "    else:\n",
        "        #tu código\n",
        "    return agenda"
      ],
      "metadata": {
        "id": "9zQk3dUVv7HV"
      },
      "execution_count": 10,
      "outputs": []
    },
    {
      "cell_type": "code",
      "source": [
        "agenda = eliminar_contacto(#tu código)\n",
        "print(agenda)"
      ],
      "metadata": {
        "id": "ii_eTEDRwD3l"
      },
      "execution_count": null,
      "outputs": []
    }
  ]
}